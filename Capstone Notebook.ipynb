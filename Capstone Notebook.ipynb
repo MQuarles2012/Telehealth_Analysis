{
 "cells": [
  {
   "cell_type": "markdown",
   "id": "d94c7f9e",
   "metadata": {},
   "source": [
    "\n",
    "# Part I: Defining the Data Problem \n"
   ]
  },
  {
   "cell_type": "markdown",
   "id": "212511b5",
   "metadata": {},
   "source": [
    "### Data Question:\n",
    "\n",
    "Since 2020 the use of telemedicine has skyrocketed and continues to be a key method for healthcare delivery. It has become a subject of interest to the broader healthcare industry, as evidenced by increased investments from healthcare companies as well as federal and state governments. For example, the Biden administration recently announced it will invest over 770 million for “telemedicine pods” in rural areas across the U.S. - 746,000 of this will be used for TN counties. A state task force dedicated to rural health outcomes recommended an additional 66,900 should be earmarked for expanding telemedicine capabilities in rural communities.\n",
    "\n",
    "The potential applications for telemedicine are broad and emergent. Many doctors and therapists now offer live video calls for routine issues like medication management, mental health services, or follow-up care after a hospital stay. Other applications of telehealth, such as remote patient monitoring and mobile health applications, showcase the potential of telehealth to radically transform the healthcare landscape. In particular, there is much opportunity in rural applications of telehealth to address lack of accessibility.\n",
    "\n",
    "According to the TN Rural Health Care Task Force, rural residents are at particular risk for “poor health outcomes, including mental health challenges, obesity, and substance misuse”. **``How can telehealth be used to target these health issues in specific rural counties?``**\n",
    "\n",
    "Many factors can play a role in health outcomes. The TN Department of Health has a webpage that outlines many contributing factors to poor health outcomes in rural populations.  Any of these could be explored in the context of this analysis: \n",
    " - average proximity to hospitals\n",
    "  - food scarcity \n",
    "  - physical activeness trends \n",
    "  - internet or broadband access\n",
    "  - health and nutrition literacy\n",
    "  - social isolation levels\n",
    "  - socioeconomic status by county\n",
    "\n",
    "Policy may also play a role. Many rural populations rely on medicaid or medicare for health care. A 2020 report outlines state medicaid policies as one of the challenges in using telehealth to address opioid addiction. The report includes a state readiness assessment for implementing telehealth delivery methods. An assessment of TN’s readiness reveals a few gaps in coverage. For example, the CCHP (Center for Connected Health Policy) has a helpful policy map comparison that shows TN is behind other states in allowing medicaid reimbursement for remote patient monitoring as well as “Store and Forward” medical diagnostic processing. \n"
   ]
  },
  {
   "cell_type": "markdown",
   "id": "17ecc09d",
   "metadata": {},
   "source": [
    "### Data Sources:"
   ]
  },
  {
   "cell_type": "markdown",
   "id": "b8b2a9bb",
   "metadata": {},
   "source": [
    "##### 1. [Medicare Telehealth Trends](https://catalog.data.gov/dataset/medicare-telemedicine-snapshot) (medicare_trends_df)\n",
    "\n",
    "The Medicare Telehealth Trends dataset provides information about people with Medicare who used telehealth services between January 1, 2020 and September 30, 2023. \n",
    "\n",
    "The data was also used to generate the [Medicare Telehealth Trends Report](https://data.cms.gov/sites/default/files/2024-03/Medicare%20Telehealth%20Trends%20Snapshot%2020240307_508.pdf).\n",
    "\n",
    "[Data Dictionary](https://data.cms.gov/sites/default/files/2023-05/c22a72d5-1b0c-47db-9d19-5fa75df96f4e/Medicare%20Telehealth%20Trends%20Report%20Data%20Dictionary_20220906_508.pdf) "
   ]
  },
  {
   "cell_type": "markdown",
   "id": "90bbc614",
   "metadata": {},
   "source": [
    "##### 2. [Medicaid & Chip Telehealth Trends](https://data.medicaid.gov/dataset/651fa253-4dd4-4867-8725-2b5ae1dd5ce9?conditions[0][property]=state&conditions[0][value]=Tennessee&conditions[0][operator]=%3D&conditions[1][property]=dataquality&conditions[1][value]=DQ&conditions[1][operator]=%3C%3E#data-table) (medicaid_trends_df)\n",
    "\n",
    "This data set includes monthly counts and rates (per 1,000 beneficiaries) of services provided via telehealth, including live audio video, remote patient monitoring, store and forward, and other telehealth, to Medicaid and CHIP beneficiaries, by state. Data was collected between January 2018 and December 2022. \n",
    "\n",
    "Note: Some states have serious data quality issues for one or more months, making the data unusable for calculating telehealth services measures...Cells with a value of “DQ” (in the DataQuality column). indicate that data were suppressed due to unusable data. Additionally, some cells have a value of “DS”. This indicates that data were suppressed for confidentiality reasons because the group included fewer than 11 beneficiaries.\n",
    "\n",
    "There is no data dictionary for this data set"
   ]
  },
  {
   "cell_type": "markdown",
   "id": "8c9cc900",
   "metadata": {},
   "source": [
    "##### 3. [County Health Rankings and Roadmaps - TN](https://www.countyhealthrankings.org/health-data/tennessee?year=2024&measure=Mental+Health+Providers) (CHHR_df)"
   ]
  },
  {
   "cell_type": "markdown",
   "id": "cfccbb63",
   "metadata": {},
   "source": [
    "County Health Rankings & Roadmaps (CHR&R), a program of the University of Wisconsin Population Health Institute, is dedicated to understanding why there are differences in health within and across communities...CHR&R provides a snapshot of the health of nearly every county in the nation..."
   ]
  },
  {
   "cell_type": "markdown",
   "id": "4b664bd5",
   "metadata": {},
   "source": [
    "What Impacts Health? - See the [CHRR Health Model](https://www.countyhealthrankings.org/what-impacts-health/county-health-rankings-model)"
   ]
  },
  {
   "cell_type": "markdown",
   "id": "1f1eee70",
   "metadata": {},
   "source": [
    "##### 4. [American Community Survey](https://www.census.gov/data/developers/data-sets/acs-5year.2022.html#list-tab-1806015614) (ACS_df)"
   ]
  },
  {
   "cell_type": "markdown",
   "id": "2ea2a441",
   "metadata": {},
   "source": [
    "May need to use an API call here"
   ]
  },
  {
   "cell_type": "code",
   "execution_count": null,
   "id": "58c80003",
   "metadata": {},
   "outputs": [],
   "source": []
  },
  {
   "cell_type": "markdown",
   "id": "11926458",
   "metadata": {},
   "source": [
    "\n",
    "# Part II: Data Import & Cleaning\n"
   ]
  },
  {
   "cell_type": "code",
   "execution_count": 36,
   "id": "f415ffa8",
   "metadata": {},
   "outputs": [],
   "source": [
    "import pandas as pd\n",
    "import numpy as np\n",
    "import seaborn as sns\n",
    "import matplotlib.pyplot as plt\n",
    "import squarify  # pip install squarify (algorithm for treemap)"
   ]
  },
  {
   "cell_type": "markdown",
   "id": "d0e181e7",
   "metadata": {},
   "source": [
    "### Medicare Data"
   ]
  },
  {
   "cell_type": "code",
   "execution_count": 2,
   "id": "5f4fc8b2",
   "metadata": {
    "scrolled": true
   },
   "outputs": [
    {
     "data": {
      "text/html": [
       "<div>\n",
       "<style scoped>\n",
       "    .dataframe tbody tr th:only-of-type {\n",
       "        vertical-align: middle;\n",
       "    }\n",
       "\n",
       "    .dataframe tbody tr th {\n",
       "        vertical-align: top;\n",
       "    }\n",
       "\n",
       "    .dataframe thead th {\n",
       "        text-align: right;\n",
       "    }\n",
       "</style>\n",
       "<table border=\"1\" class=\"dataframe\">\n",
       "  <thead>\n",
       "    <tr style=\"text-align: right;\">\n",
       "      <th></th>\n",
       "      <th>Year</th>\n",
       "      <th>quarter</th>\n",
       "      <th>Bene_Geo_Desc</th>\n",
       "      <th>Bene_Mdcd_Mdcr_Enrl_Stus</th>\n",
       "      <th>Bene_Race_Desc</th>\n",
       "      <th>Bene_Sex_Desc</th>\n",
       "      <th>Bene_Mdcr_Entlmt_Stus</th>\n",
       "      <th>Bene_Age_Desc</th>\n",
       "      <th>Bene_RUCA_Desc</th>\n",
       "      <th>Total_Bene_TH_Elig</th>\n",
       "      <th>Total_PartB_Enrl</th>\n",
       "      <th>Total_Bene_Telehealth</th>\n",
       "      <th>Pct_Telehealth</th>\n",
       "    </tr>\n",
       "  </thead>\n",
       "  <tbody>\n",
       "    <tr>\n",
       "      <th>0</th>\n",
       "      <td>2020</td>\n",
       "      <td>Overall</td>\n",
       "      <td>National</td>\n",
       "      <td>All</td>\n",
       "      <td>All</td>\n",
       "      <td>All</td>\n",
       "      <td>All</td>\n",
       "      <td>All</td>\n",
       "      <td>All</td>\n",
       "      <td>30946785.0</td>\n",
       "      <td>3.224489e+07</td>\n",
       "      <td>14826919.0</td>\n",
       "      <td>0.4791</td>\n",
       "    </tr>\n",
       "    <tr>\n",
       "      <th>1</th>\n",
       "      <td>2020</td>\n",
       "      <td>Overall</td>\n",
       "      <td>National</td>\n",
       "      <td>All</td>\n",
       "      <td>All</td>\n",
       "      <td>All</td>\n",
       "      <td>All</td>\n",
       "      <td>All</td>\n",
       "      <td>Rural</td>\n",
       "      <td>7179538.0</td>\n",
       "      <td>7.490301e+06</td>\n",
       "      <td>2858284.0</td>\n",
       "      <td>0.3981</td>\n",
       "    </tr>\n",
       "    <tr>\n",
       "      <th>2</th>\n",
       "      <td>2020</td>\n",
       "      <td>Overall</td>\n",
       "      <td>National</td>\n",
       "      <td>All</td>\n",
       "      <td>All</td>\n",
       "      <td>All</td>\n",
       "      <td>All</td>\n",
       "      <td>All</td>\n",
       "      <td>Urban</td>\n",
       "      <td>23696871.0</td>\n",
       "      <td>2.462914e+07</td>\n",
       "      <td>11944230.0</td>\n",
       "      <td>0.5040</td>\n",
       "    </tr>\n",
       "    <tr>\n",
       "      <th>3</th>\n",
       "      <td>2020</td>\n",
       "      <td>Overall</td>\n",
       "      <td>National</td>\n",
       "      <td>All</td>\n",
       "      <td>All</td>\n",
       "      <td>All</td>\n",
       "      <td>All</td>\n",
       "      <td>All</td>\n",
       "      <td>Unknown</td>\n",
       "      <td>NaN</td>\n",
       "      <td>NaN</td>\n",
       "      <td>NaN</td>\n",
       "      <td>NaN</td>\n",
       "    </tr>\n",
       "    <tr>\n",
       "      <th>4</th>\n",
       "      <td>2020</td>\n",
       "      <td>Overall</td>\n",
       "      <td>National</td>\n",
       "      <td>All</td>\n",
       "      <td>All</td>\n",
       "      <td>All</td>\n",
       "      <td>All</td>\n",
       "      <td>0-64</td>\n",
       "      <td>All</td>\n",
       "      <td>4088345.0</td>\n",
       "      <td>4.291403e+06</td>\n",
       "      <td>2322324.0</td>\n",
       "      <td>0.5680</td>\n",
       "    </tr>\n",
       "  </tbody>\n",
       "</table>\n",
       "</div>"
      ],
      "text/plain": [
       "   Year  quarter Bene_Geo_Desc Bene_Mdcd_Mdcr_Enrl_Stus Bene_Race_Desc  \\\n",
       "0  2020  Overall      National                      All            All   \n",
       "1  2020  Overall      National                      All            All   \n",
       "2  2020  Overall      National                      All            All   \n",
       "3  2020  Overall      National                      All            All   \n",
       "4  2020  Overall      National                      All            All   \n",
       "\n",
       "  Bene_Sex_Desc Bene_Mdcr_Entlmt_Stus Bene_Age_Desc Bene_RUCA_Desc  \\\n",
       "0           All                   All           All            All   \n",
       "1           All                   All           All          Rural   \n",
       "2           All                   All           All          Urban   \n",
       "3           All                   All           All        Unknown   \n",
       "4           All                   All          0-64            All   \n",
       "\n",
       "   Total_Bene_TH_Elig  Total_PartB_Enrl  Total_Bene_Telehealth  Pct_Telehealth  \n",
       "0          30946785.0      3.224489e+07             14826919.0          0.4791  \n",
       "1           7179538.0      7.490301e+06              2858284.0          0.3981  \n",
       "2          23696871.0      2.462914e+07             11944230.0          0.5040  \n",
       "3                 NaN               NaN                    NaN             NaN  \n",
       "4           4088345.0      4.291403e+06              2322324.0          0.5680  "
      ]
     },
     "execution_count": 2,
     "metadata": {},
     "output_type": "execute_result"
    }
   ],
   "source": [
    "#Read in csv for medicare telehealth trends\n",
    "medicare_trends_df = pd.read_csv('capstone_data/Medicare/US_medicare_telehealth_data_2020_to_2023.csv')\n",
    "medicare_trends_df.head()"
   ]
  },
  {
   "cell_type": "code",
   "execution_count": 3,
   "id": "d1920e05",
   "metadata": {
    "scrolled": false
   },
   "outputs": [],
   "source": [
    "#Renamed some of the columns based on their definitions so I can remember what they mean while I'm working with them\n",
    "medicare_trends_df = medicare_trends_df.rename(columns={\"Total_Bene_TH_Elig\": \"nunique_eligible_for_telehealth\", \"Total_PartB_Enrl\": \"total_enrollees_Part_B\", 'Total_Bene_Telehealth':'nunique_users_of_telehealth', 'Pct_Telehealth':'pct_actual_users_out_of_eligible_users'})\n",
    "\n",
    "#Multiply the pct column by 100 and round it, for easier readibility\n",
    "medicare_trends_df['pct_actual_users_out_of_eligible_users'] = round((medicare_trends_df['pct_actual_users_out_of_eligible_users']*100),2)"
   ]
  },
  {
   "cell_type": "code",
   "execution_count": 4,
   "id": "40f42b2a",
   "metadata": {
    "scrolled": true
   },
   "outputs": [
    {
     "data": {
      "text/html": [
       "<div>\n",
       "<style scoped>\n",
       "    .dataframe tbody tr th:only-of-type {\n",
       "        vertical-align: middle;\n",
       "    }\n",
       "\n",
       "    .dataframe tbody tr th {\n",
       "        vertical-align: top;\n",
       "    }\n",
       "\n",
       "    .dataframe thead th {\n",
       "        text-align: right;\n",
       "    }\n",
       "</style>\n",
       "<table border=\"1\" class=\"dataframe\">\n",
       "  <thead>\n",
       "    <tr style=\"text-align: right;\">\n",
       "      <th></th>\n",
       "      <th>Year</th>\n",
       "      <th>quarter</th>\n",
       "      <th>Bene_Geo_Desc</th>\n",
       "      <th>Bene_Mdcd_Mdcr_Enrl_Stus</th>\n",
       "      <th>Bene_Race_Desc</th>\n",
       "      <th>Bene_Sex_Desc</th>\n",
       "      <th>Bene_Mdcr_Entlmt_Stus</th>\n",
       "      <th>Bene_Age_Desc</th>\n",
       "      <th>Bene_RUCA_Desc</th>\n",
       "      <th>nunique_eligible_for_telehealth</th>\n",
       "      <th>total_enrollees_Part_B</th>\n",
       "      <th>nunique_users_of_telehealth</th>\n",
       "      <th>pct_actual_users_out_of_eligible_users</th>\n",
       "      <th>year-quarter</th>\n",
       "    </tr>\n",
       "  </thead>\n",
       "  <tbody>\n",
       "    <tr>\n",
       "      <th>0</th>\n",
       "      <td>2020</td>\n",
       "      <td>Overall</td>\n",
       "      <td>National</td>\n",
       "      <td>All</td>\n",
       "      <td>All</td>\n",
       "      <td>All</td>\n",
       "      <td>All</td>\n",
       "      <td>All</td>\n",
       "      <td>All</td>\n",
       "      <td>30946785.0</td>\n",
       "      <td>3.224489e+07</td>\n",
       "      <td>14826919.0</td>\n",
       "      <td>47.91</td>\n",
       "      <td>2020-Overall</td>\n",
       "    </tr>\n",
       "    <tr>\n",
       "      <th>1</th>\n",
       "      <td>2020</td>\n",
       "      <td>Overall</td>\n",
       "      <td>National</td>\n",
       "      <td>All</td>\n",
       "      <td>All</td>\n",
       "      <td>All</td>\n",
       "      <td>All</td>\n",
       "      <td>All</td>\n",
       "      <td>Rural</td>\n",
       "      <td>7179538.0</td>\n",
       "      <td>7.490301e+06</td>\n",
       "      <td>2858284.0</td>\n",
       "      <td>39.81</td>\n",
       "      <td>2020-Overall</td>\n",
       "    </tr>\n",
       "    <tr>\n",
       "      <th>2</th>\n",
       "      <td>2020</td>\n",
       "      <td>Overall</td>\n",
       "      <td>National</td>\n",
       "      <td>All</td>\n",
       "      <td>All</td>\n",
       "      <td>All</td>\n",
       "      <td>All</td>\n",
       "      <td>All</td>\n",
       "      <td>Urban</td>\n",
       "      <td>23696871.0</td>\n",
       "      <td>2.462914e+07</td>\n",
       "      <td>11944230.0</td>\n",
       "      <td>50.40</td>\n",
       "      <td>2020-Overall</td>\n",
       "    </tr>\n",
       "    <tr>\n",
       "      <th>3</th>\n",
       "      <td>2020</td>\n",
       "      <td>Overall</td>\n",
       "      <td>National</td>\n",
       "      <td>All</td>\n",
       "      <td>All</td>\n",
       "      <td>All</td>\n",
       "      <td>All</td>\n",
       "      <td>All</td>\n",
       "      <td>Unknown</td>\n",
       "      <td>NaN</td>\n",
       "      <td>NaN</td>\n",
       "      <td>NaN</td>\n",
       "      <td>NaN</td>\n",
       "      <td>2020-Overall</td>\n",
       "    </tr>\n",
       "    <tr>\n",
       "      <th>4</th>\n",
       "      <td>2020</td>\n",
       "      <td>Overall</td>\n",
       "      <td>National</td>\n",
       "      <td>All</td>\n",
       "      <td>All</td>\n",
       "      <td>All</td>\n",
       "      <td>All</td>\n",
       "      <td>0-64</td>\n",
       "      <td>All</td>\n",
       "      <td>4088345.0</td>\n",
       "      <td>4.291403e+06</td>\n",
       "      <td>2322324.0</td>\n",
       "      <td>56.80</td>\n",
       "      <td>2020-Overall</td>\n",
       "    </tr>\n",
       "  </tbody>\n",
       "</table>\n",
       "</div>"
      ],
      "text/plain": [
       "   Year  quarter Bene_Geo_Desc Bene_Mdcd_Mdcr_Enrl_Stus Bene_Race_Desc  \\\n",
       "0  2020  Overall      National                      All            All   \n",
       "1  2020  Overall      National                      All            All   \n",
       "2  2020  Overall      National                      All            All   \n",
       "3  2020  Overall      National                      All            All   \n",
       "4  2020  Overall      National                      All            All   \n",
       "\n",
       "  Bene_Sex_Desc Bene_Mdcr_Entlmt_Stus Bene_Age_Desc Bene_RUCA_Desc  \\\n",
       "0           All                   All           All            All   \n",
       "1           All                   All           All          Rural   \n",
       "2           All                   All           All          Urban   \n",
       "3           All                   All           All        Unknown   \n",
       "4           All                   All          0-64            All   \n",
       "\n",
       "   nunique_eligible_for_telehealth  total_enrollees_Part_B  \\\n",
       "0                       30946785.0            3.224489e+07   \n",
       "1                        7179538.0            7.490301e+06   \n",
       "2                       23696871.0            2.462914e+07   \n",
       "3                              NaN                     NaN   \n",
       "4                        4088345.0            4.291403e+06   \n",
       "\n",
       "   nunique_users_of_telehealth  pct_actual_users_out_of_eligible_users  \\\n",
       "0                   14826919.0                                   47.91   \n",
       "1                    2858284.0                                   39.81   \n",
       "2                   11944230.0                                   50.40   \n",
       "3                          NaN                                     NaN   \n",
       "4                    2322324.0                                   56.80   \n",
       "\n",
       "   year-quarter  \n",
       "0  2020-Overall  \n",
       "1  2020-Overall  \n",
       "2  2020-Overall  \n",
       "3  2020-Overall  \n",
       "4  2020-Overall  "
      ]
     },
     "execution_count": 4,
     "metadata": {},
     "output_type": "execute_result"
    }
   ],
   "source": [
    "#Add a new column called \"year-quarter\" to help break out changes by quarter per year\n",
    "medicare_trends_df['year-quarter'] = medicare_trends_df['Year'].astype(str) + \"-\" + medicare_trends_df['quarter'].astype(str) \n",
    "medicare_trends_df.head()"
   ]
  },
  {
   "cell_type": "markdown",
   "id": "ea611137",
   "metadata": {},
   "source": [
    "### Medicaid & CHIP Data"
   ]
  },
  {
   "cell_type": "code",
   "execution_count": 5,
   "id": "29d4afe8",
   "metadata": {},
   "outputs": [],
   "source": [
    "medicaid_trends_df = pd.read_csv('capstone_data/Medicaid/US_Telehealth-Services-Provided-to-the-MedicaidCHIP-Population.csv')"
   ]
  },
  {
   "cell_type": "code",
   "execution_count": 6,
   "id": "52fcaaf7",
   "metadata": {},
   "outputs": [
    {
     "data": {
      "text/html": [
       "<div>\n",
       "<style scoped>\n",
       "    .dataframe tbody tr th:only-of-type {\n",
       "        vertical-align: middle;\n",
       "    }\n",
       "\n",
       "    .dataframe tbody tr th {\n",
       "        vertical-align: top;\n",
       "    }\n",
       "\n",
       "    .dataframe thead th {\n",
       "        text-align: right;\n",
       "    }\n",
       "</style>\n",
       "<table border=\"1\" class=\"dataframe\">\n",
       "  <thead>\n",
       "    <tr style=\"text-align: right;\">\n",
       "      <th></th>\n",
       "      <th>State</th>\n",
       "      <th>Year</th>\n",
       "      <th>Month</th>\n",
       "      <th>TelehealthType</th>\n",
       "      <th>ServiceType</th>\n",
       "      <th>ServiceCount</th>\n",
       "      <th>RatePer1000Beneficiaries</th>\n",
       "      <th>DataQuality</th>\n",
       "    </tr>\n",
       "  </thead>\n",
       "  <tbody>\n",
       "    <tr>\n",
       "      <th>0</th>\n",
       "      <td>Alabama</td>\n",
       "      <td>2018</td>\n",
       "      <td>201801</td>\n",
       "      <td>Live audio/video</td>\n",
       "      <td>All</td>\n",
       "      <td>6,905</td>\n",
       "      <td>5.6</td>\n",
       "      <td>NaN</td>\n",
       "    </tr>\n",
       "    <tr>\n",
       "      <th>1</th>\n",
       "      <td>Alabama</td>\n",
       "      <td>2018</td>\n",
       "      <td>201801</td>\n",
       "      <td>Other telehealth</td>\n",
       "      <td>All</td>\n",
       "      <td>-</td>\n",
       "      <td>0</td>\n",
       "      <td>NaN</td>\n",
       "    </tr>\n",
       "    <tr>\n",
       "      <th>2</th>\n",
       "      <td>Alabama</td>\n",
       "      <td>2018</td>\n",
       "      <td>201801</td>\n",
       "      <td>Remote patient monitoring</td>\n",
       "      <td>All</td>\n",
       "      <td>-</td>\n",
       "      <td>0</td>\n",
       "      <td>NaN</td>\n",
       "    </tr>\n",
       "    <tr>\n",
       "      <th>3</th>\n",
       "      <td>Alabama</td>\n",
       "      <td>2018</td>\n",
       "      <td>201801</td>\n",
       "      <td>Store and forward</td>\n",
       "      <td>All</td>\n",
       "      <td>-</td>\n",
       "      <td>0</td>\n",
       "      <td>NaN</td>\n",
       "    </tr>\n",
       "    <tr>\n",
       "      <th>4</th>\n",
       "      <td>Alabama</td>\n",
       "      <td>2018</td>\n",
       "      <td>201802</td>\n",
       "      <td>Live audio/video</td>\n",
       "      <td>All</td>\n",
       "      <td>4,821</td>\n",
       "      <td>3.9</td>\n",
       "      <td>NaN</td>\n",
       "    </tr>\n",
       "  </tbody>\n",
       "</table>\n",
       "</div>"
      ],
      "text/plain": [
       "     State  Year   Month             TelehealthType ServiceType ServiceCount  \\\n",
       "0  Alabama  2018  201801           Live audio/video         All       6,905    \n",
       "1  Alabama  2018  201801           Other telehealth         All         -      \n",
       "2  Alabama  2018  201801  Remote patient monitoring         All         -      \n",
       "3  Alabama  2018  201801          Store and forward         All         -      \n",
       "4  Alabama  2018  201802           Live audio/video         All       4,821    \n",
       "\n",
       "  RatePer1000Beneficiaries DataQuality  \n",
       "0                      5.6         NaN  \n",
       "1                        0         NaN  \n",
       "2                        0         NaN  \n",
       "3                        0         NaN  \n",
       "4                      3.9         NaN  "
      ]
     },
     "execution_count": 6,
     "metadata": {},
     "output_type": "execute_result"
    }
   ],
   "source": [
    "medicaid_trends_df.head()"
   ]
  },
  {
   "cell_type": "code",
   "execution_count": 7,
   "id": "7760eb47",
   "metadata": {
    "scrolled": false
   },
   "outputs": [],
   "source": [
    "#First we need to filter out \"unusable\" data\n",
    "medicaid_trends_df = medicaid_trends_df[medicaid_trends_df['DataQuality']!='Unusable']\n",
    "medicaid_trends_df = medicaid_trends_df[medicaid_trends_df['ServiceCount']!=' DS ']"
   ]
  },
  {
   "cell_type": "code",
   "execution_count": 8,
   "id": "0aa16f6e",
   "metadata": {},
   "outputs": [
    {
     "data": {
      "text/html": [
       "<div>\n",
       "<style scoped>\n",
       "    .dataframe tbody tr th:only-of-type {\n",
       "        vertical-align: middle;\n",
       "    }\n",
       "\n",
       "    .dataframe tbody tr th {\n",
       "        vertical-align: top;\n",
       "    }\n",
       "\n",
       "    .dataframe thead th {\n",
       "        text-align: right;\n",
       "    }\n",
       "</style>\n",
       "<table border=\"1\" class=\"dataframe\">\n",
       "  <thead>\n",
       "    <tr style=\"text-align: right;\">\n",
       "      <th></th>\n",
       "      <th>State</th>\n",
       "      <th>Year</th>\n",
       "      <th>Month</th>\n",
       "      <th>TelehealthType</th>\n",
       "      <th>ServiceType</th>\n",
       "      <th>ServiceCount</th>\n",
       "      <th>RatePer1000Beneficiaries</th>\n",
       "      <th>DataQuality</th>\n",
       "    </tr>\n",
       "  </thead>\n",
       "  <tbody>\n",
       "    <tr>\n",
       "      <th>0</th>\n",
       "      <td>Alabama</td>\n",
       "      <td>2018</td>\n",
       "      <td>201801</td>\n",
       "      <td>Live audio/video</td>\n",
       "      <td>All</td>\n",
       "      <td>6905.0</td>\n",
       "      <td>5.6</td>\n",
       "      <td>NaN</td>\n",
       "    </tr>\n",
       "    <tr>\n",
       "      <th>1</th>\n",
       "      <td>Alabama</td>\n",
       "      <td>2018</td>\n",
       "      <td>201801</td>\n",
       "      <td>Other telehealth</td>\n",
       "      <td>All</td>\n",
       "      <td>NaN</td>\n",
       "      <td>0.0</td>\n",
       "      <td>NaN</td>\n",
       "    </tr>\n",
       "    <tr>\n",
       "      <th>2</th>\n",
       "      <td>Alabama</td>\n",
       "      <td>2018</td>\n",
       "      <td>201801</td>\n",
       "      <td>Remote patient monitoring</td>\n",
       "      <td>All</td>\n",
       "      <td>NaN</td>\n",
       "      <td>0.0</td>\n",
       "      <td>NaN</td>\n",
       "    </tr>\n",
       "    <tr>\n",
       "      <th>3</th>\n",
       "      <td>Alabama</td>\n",
       "      <td>2018</td>\n",
       "      <td>201801</td>\n",
       "      <td>Store and forward</td>\n",
       "      <td>All</td>\n",
       "      <td>NaN</td>\n",
       "      <td>0.0</td>\n",
       "      <td>NaN</td>\n",
       "    </tr>\n",
       "    <tr>\n",
       "      <th>4</th>\n",
       "      <td>Alabama</td>\n",
       "      <td>2018</td>\n",
       "      <td>201802</td>\n",
       "      <td>Live audio/video</td>\n",
       "      <td>All</td>\n",
       "      <td>4821.0</td>\n",
       "      <td>3.9</td>\n",
       "      <td>NaN</td>\n",
       "    </tr>\n",
       "  </tbody>\n",
       "</table>\n",
       "</div>"
      ],
      "text/plain": [
       "     State  Year   Month             TelehealthType ServiceType  ServiceCount  \\\n",
       "0  Alabama  2018  201801           Live audio/video         All        6905.0   \n",
       "1  Alabama  2018  201801           Other telehealth         All           NaN   \n",
       "2  Alabama  2018  201801  Remote patient monitoring         All           NaN   \n",
       "3  Alabama  2018  201801          Store and forward         All           NaN   \n",
       "4  Alabama  2018  201802           Live audio/video         All        4821.0   \n",
       "\n",
       "   RatePer1000Beneficiaries  DataQuality  \n",
       "0                       5.6          NaN  \n",
       "1                       0.0          NaN  \n",
       "2                       0.0          NaN  \n",
       "3                       0.0          NaN  \n",
       "4                       3.9          NaN  "
      ]
     },
     "execution_count": 8,
     "metadata": {},
     "output_type": "execute_result"
    }
   ],
   "source": [
    "#Then we need to change the service counts to summable data types\n",
    "\n",
    "#Let's remove commas\n",
    "medicaid_trends_df = medicaid_trends_df.replace(',','', regex=True)\n",
    "\n",
    "#Then convert to numeric data type, coerce non-numbers to NaN\n",
    "medicaid_trends_df['ServiceCount'] = medicaid_trends_df['ServiceCount'].apply(pd.to_numeric,errors='coerce')\n",
    "medicaid_trends_df['RatePer1000Beneficiaries'] = medicaid_trends_df['RatePer1000Beneficiaries'].apply(pd.to_numeric,errors='coerce')\n",
    "medicaid_trends_df.head()"
   ]
  },
  {
   "cell_type": "code",
   "execution_count": null,
   "id": "452cda66",
   "metadata": {},
   "outputs": [],
   "source": []
  },
  {
   "cell_type": "code",
   "execution_count": null,
   "id": "32361bff",
   "metadata": {},
   "outputs": [],
   "source": []
  },
  {
   "cell_type": "code",
   "execution_count": null,
   "id": "53182848",
   "metadata": {},
   "outputs": [],
   "source": []
  },
  {
   "cell_type": "code",
   "execution_count": null,
   "id": "c54b84c9",
   "metadata": {},
   "outputs": [],
   "source": []
  },
  {
   "cell_type": "code",
   "execution_count": null,
   "id": "b146a44b",
   "metadata": {},
   "outputs": [],
   "source": []
  },
  {
   "cell_type": "code",
   "execution_count": null,
   "id": "5cfe9bdd",
   "metadata": {},
   "outputs": [],
   "source": []
  },
  {
   "cell_type": "code",
   "execution_count": null,
   "id": "d3c3435a",
   "metadata": {},
   "outputs": [],
   "source": []
  },
  {
   "cell_type": "code",
   "execution_count": null,
   "id": "4f4e867e",
   "metadata": {},
   "outputs": [],
   "source": []
  },
  {
   "cell_type": "markdown",
   "id": "5bd01ac5",
   "metadata": {},
   "source": [
    "# Part III: Data Exploration"
   ]
  },
  {
   "cell_type": "markdown",
   "id": "d9a81a8c",
   "metadata": {},
   "source": [
    "### First Look - Basic Aggregation Stats"
   ]
  },
  {
   "cell_type": "code",
   "execution_count": 9,
   "id": "e9fc27e7",
   "metadata": {},
   "outputs": [],
   "source": [
    "#Use .describe() to get some basic aggregated stats for the data set. \n",
    "medicare_stats = round(medicare_trends_df.describe(),2)\n",
    "medicaid_stats = round(medicaid_trends_df.describe(),2)"
   ]
  },
  {
   "cell_type": "code",
   "execution_count": 10,
   "id": "175ff7c7",
   "metadata": {},
   "outputs": [
    {
     "data": {
      "text/html": [
       "<div>\n",
       "<style scoped>\n",
       "    .dataframe tbody tr th:only-of-type {\n",
       "        vertical-align: middle;\n",
       "    }\n",
       "\n",
       "    .dataframe tbody tr th {\n",
       "        vertical-align: top;\n",
       "    }\n",
       "\n",
       "    .dataframe thead th {\n",
       "        text-align: right;\n",
       "    }\n",
       "</style>\n",
       "<table border=\"1\" class=\"dataframe\">\n",
       "  <thead>\n",
       "    <tr style=\"text-align: right;\">\n",
       "      <th></th>\n",
       "      <th>nunique_eligible_for_telehealth</th>\n",
       "      <th>total_enrollees_Part_B</th>\n",
       "      <th>nunique_users_of_telehealth</th>\n",
       "      <th>pct_actual_users_out_of_eligible_users</th>\n",
       "    </tr>\n",
       "  </thead>\n",
       "  <tbody>\n",
       "    <tr>\n",
       "      <th>count</th>\n",
       "      <td>19378.00</td>\n",
       "      <td>19378.00</td>\n",
       "      <td>19349.00</td>\n",
       "      <td>19347.00</td>\n",
       "    </tr>\n",
       "    <tr>\n",
       "      <th>mean</th>\n",
       "      <td>509782.63</td>\n",
       "      <td>644732.85</td>\n",
       "      <td>117848.05</td>\n",
       "      <td>23.24</td>\n",
       "    </tr>\n",
       "    <tr>\n",
       "      <th>std</th>\n",
       "      <td>2088376.79</td>\n",
       "      <td>2617578.83</td>\n",
       "      <td>544223.71</td>\n",
       "      <td>14.17</td>\n",
       "    </tr>\n",
       "    <tr>\n",
       "      <th>min</th>\n",
       "      <td>11.00</td>\n",
       "      <td>16.67</td>\n",
       "      <td>0.00</td>\n",
       "      <td>0.00</td>\n",
       "    </tr>\n",
       "    <tr>\n",
       "      <th>25%</th>\n",
       "      <td>18067.50</td>\n",
       "      <td>23625.50</td>\n",
       "      <td>3526.00</td>\n",
       "      <td>12.22</td>\n",
       "    </tr>\n",
       "    <tr>\n",
       "      <th>50%</th>\n",
       "      <td>80085.50</td>\n",
       "      <td>103933.00</td>\n",
       "      <td>14521.00</td>\n",
       "      <td>19.71</td>\n",
       "    </tr>\n",
       "    <tr>\n",
       "      <th>75%</th>\n",
       "      <td>262988.50</td>\n",
       "      <td>341424.94</td>\n",
       "      <td>51154.00</td>\n",
       "      <td>31.48</td>\n",
       "    </tr>\n",
       "    <tr>\n",
       "      <th>max</th>\n",
       "      <td>30946785.00</td>\n",
       "      <td>32344227.67</td>\n",
       "      <td>14826919.00</td>\n",
       "      <td>82.02</td>\n",
       "    </tr>\n",
       "  </tbody>\n",
       "</table>\n",
       "</div>"
      ],
      "text/plain": [
       "       nunique_eligible_for_telehealth  total_enrollees_Part_B  \\\n",
       "count                         19378.00                19378.00   \n",
       "mean                         509782.63               644732.85   \n",
       "std                         2088376.79              2617578.83   \n",
       "min                              11.00                   16.67   \n",
       "25%                           18067.50                23625.50   \n",
       "50%                           80085.50               103933.00   \n",
       "75%                          262988.50               341424.94   \n",
       "max                        30946785.00             32344227.67   \n",
       "\n",
       "       nunique_users_of_telehealth  pct_actual_users_out_of_eligible_users  \n",
       "count                     19349.00                                19347.00  \n",
       "mean                     117848.05                                   23.24  \n",
       "std                      544223.71                                   14.17  \n",
       "min                           0.00                                    0.00  \n",
       "25%                        3526.00                                   12.22  \n",
       "50%                       14521.00                                   19.71  \n",
       "75%                       51154.00                                   31.48  \n",
       "max                    14826919.00                                   82.02  "
      ]
     },
     "execution_count": 10,
     "metadata": {},
     "output_type": "execute_result"
    }
   ],
   "source": [
    "#Medicare Stats - telehealth benefit recipients 2020-2023:\n",
    "medicare_stats.drop(['Year'], axis=1)"
   ]
  },
  {
   "cell_type": "code",
   "execution_count": 11,
   "id": "dc44b42e",
   "metadata": {},
   "outputs": [
    {
     "data": {
      "text/html": [
       "<div>\n",
       "<style scoped>\n",
       "    .dataframe tbody tr th:only-of-type {\n",
       "        vertical-align: middle;\n",
       "    }\n",
       "\n",
       "    .dataframe tbody tr th {\n",
       "        vertical-align: top;\n",
       "    }\n",
       "\n",
       "    .dataframe thead th {\n",
       "        text-align: right;\n",
       "    }\n",
       "</style>\n",
       "<table border=\"1\" class=\"dataframe\">\n",
       "  <thead>\n",
       "    <tr style=\"text-align: right;\">\n",
       "      <th></th>\n",
       "      <th>ServiceCount</th>\n",
       "      <th>RatePer1000Beneficiaries</th>\n",
       "    </tr>\n",
       "  </thead>\n",
       "  <tbody>\n",
       "    <tr>\n",
       "      <th>count</th>\n",
       "      <td>8498.00</td>\n",
       "      <td>10158.00</td>\n",
       "    </tr>\n",
       "    <tr>\n",
       "      <th>mean</th>\n",
       "      <td>34938.93</td>\n",
       "      <td>17.97</td>\n",
       "    </tr>\n",
       "    <tr>\n",
       "      <th>std</th>\n",
       "      <td>119101.59</td>\n",
       "      <td>49.25</td>\n",
       "    </tr>\n",
       "    <tr>\n",
       "      <th>min</th>\n",
       "      <td>11.00</td>\n",
       "      <td>0.00</td>\n",
       "    </tr>\n",
       "    <tr>\n",
       "      <th>25%</th>\n",
       "      <td>72.00</td>\n",
       "      <td>0.00</td>\n",
       "    </tr>\n",
       "    <tr>\n",
       "      <th>50%</th>\n",
       "      <td>395.00</td>\n",
       "      <td>0.00</td>\n",
       "    </tr>\n",
       "    <tr>\n",
       "      <th>75%</th>\n",
       "      <td>5128.50</td>\n",
       "      <td>2.50</td>\n",
       "    </tr>\n",
       "    <tr>\n",
       "      <th>max</th>\n",
       "      <td>1843032.00</td>\n",
       "      <td>482.70</td>\n",
       "    </tr>\n",
       "  </tbody>\n",
       "</table>\n",
       "</div>"
      ],
      "text/plain": [
       "       ServiceCount  RatePer1000Beneficiaries\n",
       "count       8498.00                  10158.00\n",
       "mean       34938.93                     17.97\n",
       "std       119101.59                     49.25\n",
       "min           11.00                      0.00\n",
       "25%           72.00                      0.00\n",
       "50%          395.00                      0.00\n",
       "75%         5128.50                      2.50\n",
       "max      1843032.00                    482.70"
      ]
     },
     "execution_count": 11,
     "metadata": {},
     "output_type": "execute_result"
    }
   ],
   "source": [
    "#Medicaid Stats - Telehealth services delivered from 2018-2022:\n",
    "medicaid_stats.drop(['Year','Month','DataQuality'], axis=1)"
   ]
  },
  {
   "cell_type": "markdown",
   "id": "6b12de44",
   "metadata": {},
   "source": [
    "***Note:*** *The dates of the two datasets do not completely align. Only Jan 2020 - Dec 2022 are overlapping*"
   ]
  },
  {
   "cell_type": "code",
   "execution_count": null,
   "id": "128fbe68",
   "metadata": {},
   "outputs": [],
   "source": []
  },
  {
   "cell_type": "markdown",
   "id": "424d1847",
   "metadata": {},
   "source": [
    "### Creating Scalable Filter Functions"
   ]
  },
  {
   "cell_type": "markdown",
   "id": "363f4ea0",
   "metadata": {},
   "source": [
    "In order to chart some of the string variables, we need to create a way to filter them at scale"
   ]
  },
  {
   "cell_type": "code",
   "execution_count": 12,
   "id": "95ad3603",
   "metadata": {},
   "outputs": [],
   "source": [
    "#Define a function that filters any df by specific value(s) in a column (the variable)\n",
    "#Note: cannot filter this way using operators, more useful for str variables \n",
    "def quick_filter(df, variable, *values):\n",
    "    return df[df[variable].isin(values)]\n",
    "\n",
    "#test:\n",
    "#quick_filter(medicare_trends_df,'Bene_Mdcd_Mdcr_Enrl_Stus', 'Medicare Only')"
   ]
  },
  {
   "cell_type": "markdown",
   "id": "f9650d2f",
   "metadata": {},
   "source": [
    "##### Variables Defined Here: "
   ]
  },
  {
   "cell_type": "code",
   "execution_count": 13,
   "id": "8c664a6a",
   "metadata": {},
   "outputs": [],
   "source": [
    "#List and define the str variables:\n",
    "\n",
    "#Medicare variables\n",
    "year = 'Year'\n",
    "quarter = 'quarter'\n",
    "state = 'Bene_Geo_Desc'\n",
    "enrollment_status = 'Bene_Mdcd_Mdcr_Enrl_Stus'\n",
    "race = 'Bene_Race_Desc'\n",
    "sex = 'Bene_Sex_Desc'\n",
    "entitlement = 'Bene_Mdcr_Entlmt_Stus'\n",
    "age = 'Bene_Age_Desc'\n",
    "RUCA = 'Bene_RUCA_Desc'\n"
   ]
  },
  {
   "cell_type": "markdown",
   "id": "688c2af3",
   "metadata": {},
   "source": [
    "#Medicaid variables\n",
    "state = 'State'\n",
    "year = 'Year'\n",
    "month = 'Month'\n",
    "Type = 'TelehealthType'\n",
    "Count = 'ServiceCount'\n",
    "rate = 'RatePer1000Beneficiaries'"
   ]
  },
  {
   "cell_type": "code",
   "execution_count": 14,
   "id": "abca4d49",
   "metadata": {},
   "outputs": [
    {
     "name": "stdout",
     "output_type": "stream",
     "text": [
      "Year\n",
      "[2020 2021 2022 2023]\n",
      "quarter\n",
      "['Overall' '1' '2' '3' '4']\n",
      "Bene_Geo_Desc\n",
      "['National' 'Alabama' 'Alaska' 'Arizona' 'Arkansas' 'California'\n",
      " 'Colorado' 'Connecticut' 'Delaware' 'District Of Columbia' 'Florida'\n",
      " 'Georgia' 'Hawaii' 'Idaho' 'Illinois' 'Indiana' 'Iowa' 'Kansas'\n",
      " 'Kentucky' 'Louisiana' 'Maine' 'Maryland' 'Massachusetts' 'Michigan'\n",
      " 'Minnesota' 'Missing Data' 'Mississippi' 'Missouri' 'Montana' 'Nebraska'\n",
      " 'Nevada' 'New Hampshire' 'New Jersey' 'New Mexico' 'New York'\n",
      " 'North Carolina' 'North Dakota' 'Ohio' 'Oklahoma' 'Oregon' 'Pennsylvania'\n",
      " 'Puerto Rico' 'Rhode Island' 'South Carolina' 'South Dakota' 'Tennessee'\n",
      " 'Territories' 'Texas' 'Utah' 'Vermont' 'Virgin Islands' 'Virginia'\n",
      " 'Washington' 'West Virginia' 'Wisconsin' 'Wyoming']\n",
      "Bene_Mdcd_Mdcr_Enrl_Stus\n",
      "['All' 'Medicare & Medicaid' 'Medicare Only']\n",
      "Bene_Race_Desc\n",
      "['All' 'American Indian/Alaska Native' 'Asian/Pacific Islander'\n",
      " 'Black/African American' 'Hispanic' 'Non-Hispanic White' 'Other/Unknown']\n",
      "Bene_Sex_Desc\n",
      "['All' 'Female' 'Male']\n",
      "Bene_Mdcr_Entlmt_Stus\n",
      "['All' 'Aged' 'Disabled' 'ESRD']\n",
      "Bene_Age_Desc\n",
      "['All' '0-64' '65-74' '75-84' '85 and over']\n",
      "Bene_RUCA_Desc\n",
      "['All' 'Rural' 'Urban' 'Unknown']\n",
      "nunique_eligible_for_telehealth\n",
      "[3.0946785e+07 7.1795380e+06 2.3696871e+07 ... 7.3280000e+03 4.5895000e+04\n",
      " 2.0810000e+04]\n",
      "total_enrollees_Part_B\n",
      "[3.22448935e+07 7.49030067e+06 2.46291429e+07 ... 9.20600000e+03\n",
      " 6.80080000e+04 2.89310000e+04]\n",
      "nunique_users_of_telehealth\n",
      "[1.4826919e+07 2.8582840e+06 1.1944230e+07 ... 9.5900000e+02 1.7500000e+03\n",
      " 2.9140000e+03]\n",
      "pct_actual_users_out_of_eligible_users\n",
      "[47.91 39.81 50.4  ...  4.99  3.29 12.95]\n",
      "year-quarter\n",
      "['2020-Overall' '2020-1' '2020-2' '2020-3' '2020-4' '2021-Overall'\n",
      " '2021-1' '2021-2' '2021-3' '2021-4' '2022-Overall' '2022-1' '2022-2'\n",
      " '2022-3' '2022-4' '2023-1' '2023-2' '2023-3']\n"
     ]
    }
   ],
   "source": [
    "#For easier reference when chooseing the variables, here is a sampling of unique values in each column:\n",
    "for series_name, series in medicare_trends_df.items():\n",
    "       print(series_name)\n",
    "       print(medicare_trends_df[series_name].unique())\n",
    "    \n",
    "#Also the base dataframe info:\n",
    "#medicaid_trends_df.info()"
   ]
  },
  {
   "cell_type": "markdown",
   "id": "56d49a26",
   "metadata": {},
   "source": [
    "##### Filters Defined Here:"
   ]
  },
  {
   "cell_type": "code",
   "execution_count": 15,
   "id": "bed03c3f",
   "metadata": {},
   "outputs": [],
   "source": [
    "#Define the value(s) to filter on\n",
    "#For example, if we want to filter by a specific state, change this value to the state you want \n",
    "#Then use the 'state' variable in the quick_filter function \n",
    "\n",
    "value = 'Tennessee'\n",
    "filtered_data = quick_filter(medicare_trends_df,state,value)\n",
    "\n",
    "#Copy/paste as needed in the visualization section below"
   ]
  },
  {
   "cell_type": "code",
   "execution_count": 16,
   "id": "5ca627cd",
   "metadata": {},
   "outputs": [],
   "source": [
    "#Can optionally use this for loop to filter most variables by \"All\" in the medicare data\n",
    "all_var = filtered_data\n",
    "for column in filtered_data.iloc[:,3:9]:\n",
    "    all_var = quick_filter(all_var,column,'All') \n",
    "\n",
    "filtered_data = all_var"
   ]
  },
  {
   "cell_type": "markdown",
   "id": "713defd4",
   "metadata": {},
   "source": [
    "### TN Medicare Demographic Trends (in power BI)\n",
    "- Race\n",
    "- Age\n",
    "- Gender\n",
    "- Rural vs. Urban\n",
    "\n",
    "#### Note: There are no demographic data about medicaid telehealth users"
   ]
  },
  {
   "cell_type": "markdown",
   "id": "4cd59c19",
   "metadata": {},
   "source": [
    "#### Race"
   ]
  },
  {
   "cell_type": "code",
   "execution_count": 81,
   "id": "774b1a19",
   "metadata": {},
   "outputs": [
    {
     "data": {
      "text/html": [
       "<div>\n",
       "<style scoped>\n",
       "    .dataframe tbody tr th:only-of-type {\n",
       "        vertical-align: middle;\n",
       "    }\n",
       "\n",
       "    .dataframe tbody tr th {\n",
       "        vertical-align: top;\n",
       "    }\n",
       "\n",
       "    .dataframe thead th {\n",
       "        text-align: right;\n",
       "    }\n",
       "</style>\n",
       "<table border=\"1\" class=\"dataframe\">\n",
       "  <thead>\n",
       "    <tr style=\"text-align: right;\">\n",
       "      <th></th>\n",
       "      <th>Bene_Race_Desc</th>\n",
       "      <th>average_pct</th>\n",
       "    </tr>\n",
       "  </thead>\n",
       "  <tbody>\n",
       "    <tr>\n",
       "      <th>0</th>\n",
       "      <td>American Indian/Alaska Native</td>\n",
       "      <td>17.23</td>\n",
       "    </tr>\n",
       "    <tr>\n",
       "      <th>2</th>\n",
       "      <td>Black/African American</td>\n",
       "      <td>14.31</td>\n",
       "    </tr>\n",
       "    <tr>\n",
       "      <th>3</th>\n",
       "      <td>Hispanic</td>\n",
       "      <td>14.23</td>\n",
       "    </tr>\n",
       "    <tr>\n",
       "      <th>4</th>\n",
       "      <td>Non-Hispanic White</td>\n",
       "      <td>12.58</td>\n",
       "    </tr>\n",
       "    <tr>\n",
       "      <th>1</th>\n",
       "      <td>Asian/Pacific Islander</td>\n",
       "      <td>11.54</td>\n",
       "    </tr>\n",
       "  </tbody>\n",
       "</table>\n",
       "</div>"
      ],
      "text/plain": [
       "                  Bene_Race_Desc  average_pct\n",
       "0  American Indian/Alaska Native        17.23\n",
       "2         Black/African American        14.31\n",
       "3                       Hispanic        14.23\n",
       "4             Non-Hispanic White        12.58\n",
       "1         Asian/Pacific Islander        11.54"
      ]
     },
     "execution_count": 81,
     "metadata": {},
     "output_type": "execute_result"
    }
   ],
   "source": [
    "#Filter by TN, remove \"all\" and 'other' (there are no values for \"other\" recorded)\n",
    "value = 'Tennessee'\n",
    "filtered_data = quick_filter(medicare_trends_df,state,value)\n",
    "filtered_data = filtered_data[filtered_data['Bene_Race_Desc']!='All']\n",
    "filtered_data = filtered_data[filtered_data['Bene_Race_Desc']!='Other/Unknown']\n",
    "\n",
    "\n",
    "#Save this to CSV for chart:\n",
    "#filtered_data.to_csv('TN_Medicare_Race_Trends.csv')\n",
    "\n",
    "#Group by race\n",
    "medicare_trends_by_race = filtered_data.groupby(['Bene_Race_Desc'])['pct_actual_users_out_of_eligible_users'].mean().reset_index(name='average_pct').sort_values(by='average_pct', ascending=False)\n",
    "medicare_trends_by_race['average_pct'] = round(medicare_trends_by_race['average_pct'],2)\n",
    "medicare_trends_by_race\n"
   ]
  },
  {
   "cell_type": "code",
   "execution_count": 94,
   "id": "bfb48236",
   "metadata": {},
   "outputs": [
    {
     "data": {
      "image/png": "[encoded data removed]",
      "text/plain": [
       "<Figure size 640x480 with 1 Axes>"
      ]
     },
     "metadata": {},
     "output_type": "display_data"
    }
   ],
   "source": [
    "#Bar Graph\n",
    "\n",
    "#define data\n",
    "height = medicare_trends_by_race['average_pct']\n",
    "bars = medicare_trends_by_race['Bene_Race_Desc']\n",
    "y_pos = np.arange(len(bars))\n",
    "\n",
    "# Create bars\n",
    "#plt.bar(y_pos, height)\n",
    "plt.barh(bars, width=height)\n",
    "\n",
    "\n",
    "# Create names on the x-axis and labels\n",
    "plt.xlabel('Average % Using Telehealth Services')\n",
    "#plt.ylabel('Race')\n",
    "plt.title('TN Medicare Telehealth Users by Race')\n",
    "\n",
    "# Show graphic\n",
    "plt.show()"
   ]
  },
  {
   "cell_type": "code",
   "execution_count": 88,
   "id": "9869ceb9",
   "metadata": {},
   "outputs": [
    {
     "data": {
      "image/png": "[encoded data removed]",
      "text/plain": [
       "<Figure size 640x480 with 1 Axes>"
      ]
     },
     "metadata": {},
     "output_type": "display_data"
    }
   ],
   "source": [
    "#Tree map of number values\n",
    "#Group by race\n",
    "medicare_trends_by_race_sum = filtered_data.groupby(['Bene_Race_Desc'])['nunique_users_of_telehealth'].sum().reset_index(name='sum').sort_values(by='sum', ascending=False)\n",
    "medicare_trends_by_race_sum['sum'] = round(medicare_trends_by_race_sum['sum'],2)\n",
    "medicare_trends_by_race_sum\n",
    "\n",
    "squarify.plot(sizes=medicare_trends_by_race_sum['sum'], label=medicare_trends_by_race_sum['Bene_Race_Desc'], alpha=.8 )\n",
    "plt.axis('off')\n",
    "plt.show()"
   ]
  },
  {
   "cell_type": "code",
   "execution_count": 89,
   "id": "cc080cc4",
   "metadata": {},
   "outputs": [
    {
     "data": {
      "image/png": "[encoded data removed]",
      "text/plain": [
       "<Figure size 640x480 with 1 Axes>"
      ]
     },
     "metadata": {},
     "output_type": "display_data"
    }
   ],
   "source": [
    "#Also a pie chart\n",
    "# create data\n",
    "data=medicare_trends_by_race_sum['sum']\n",
    "\n",
    "# Create a pieplot\n",
    "plt.pie(data)\n",
    "\n",
    "# add a circle at the center to transform it in a donut chart\n",
    "my_circle=plt.Circle( (0,0), 0.7, color='white')\n",
    "p=plt.gcf()\n",
    "p.gca().add_artist(my_circle)\n",
    "\n",
    "plt.show()"
   ]
  },
  {
   "cell_type": "markdown",
   "id": "e8aa41b3",
   "metadata": {},
   "source": [
    "### Medicaid Telehealth Trends by Service Type"
   ]
  },
  {
   "cell_type": "code",
   "execution_count": 19,
   "id": "2e81611a",
   "metadata": {
    "scrolled": false
   },
   "outputs": [
    {
     "data": {
      "text/html": [
       "<div>\n",
       "<style scoped>\n",
       "    .dataframe tbody tr th:only-of-type {\n",
       "        vertical-align: middle;\n",
       "    }\n",
       "\n",
       "    .dataframe tbody tr th {\n",
       "        vertical-align: top;\n",
       "    }\n",
       "\n",
       "    .dataframe thead th {\n",
       "        text-align: right;\n",
       "    }\n",
       "</style>\n",
       "<table border=\"1\" class=\"dataframe\">\n",
       "  <thead>\n",
       "    <tr style=\"text-align: right;\">\n",
       "      <th></th>\n",
       "      <th>TelehealthType</th>\n",
       "      <th>Year</th>\n",
       "      <th>sum</th>\n",
       "    </tr>\n",
       "  </thead>\n",
       "  <tbody>\n",
       "    <tr>\n",
       "      <th>0</th>\n",
       "      <td>Live audio/video</td>\n",
       "      <td>2018</td>\n",
       "      <td>2542113.0</td>\n",
       "    </tr>\n",
       "    <tr>\n",
       "      <th>1</th>\n",
       "      <td>Live audio/video</td>\n",
       "      <td>2019</td>\n",
       "      <td>3729677.0</td>\n",
       "    </tr>\n",
       "    <tr>\n",
       "      <th>2</th>\n",
       "      <td>Live audio/video</td>\n",
       "      <td>2020</td>\n",
       "      <td>101439571.0</td>\n",
       "    </tr>\n",
       "    <tr>\n",
       "      <th>3</th>\n",
       "      <td>Live audio/video</td>\n",
       "      <td>2021</td>\n",
       "      <td>104310821.0</td>\n",
       "    </tr>\n",
       "    <tr>\n",
       "      <th>4</th>\n",
       "      <td>Live audio/video</td>\n",
       "      <td>2022</td>\n",
       "      <td>80320959.0</td>\n",
       "    </tr>\n",
       "    <tr>\n",
       "      <th>8</th>\n",
       "      <td>Other telehealth</td>\n",
       "      <td>2021</td>\n",
       "      <td>356122.0</td>\n",
       "    </tr>\n",
       "    <tr>\n",
       "      <th>7</th>\n",
       "      <td>Other telehealth</td>\n",
       "      <td>2020</td>\n",
       "      <td>750035.0</td>\n",
       "    </tr>\n",
       "    <tr>\n",
       "      <th>9</th>\n",
       "      <td>Other telehealth</td>\n",
       "      <td>2022</td>\n",
       "      <td>281331.0</td>\n",
       "    </tr>\n",
       "    <tr>\n",
       "      <th>5</th>\n",
       "      <td>Other telehealth</td>\n",
       "      <td>2018</td>\n",
       "      <td>9750.0</td>\n",
       "    </tr>\n",
       "    <tr>\n",
       "      <th>6</th>\n",
       "      <td>Other telehealth</td>\n",
       "      <td>2019</td>\n",
       "      <td>17300.0</td>\n",
       "    </tr>\n",
       "    <tr>\n",
       "      <th>10</th>\n",
       "      <td>Remote patient monitoring</td>\n",
       "      <td>2018</td>\n",
       "      <td>7758.0</td>\n",
       "    </tr>\n",
       "    <tr>\n",
       "      <th>11</th>\n",
       "      <td>Remote patient monitoring</td>\n",
       "      <td>2019</td>\n",
       "      <td>38308.0</td>\n",
       "    </tr>\n",
       "    <tr>\n",
       "      <th>12</th>\n",
       "      <td>Remote patient monitoring</td>\n",
       "      <td>2020</td>\n",
       "      <td>129134.0</td>\n",
       "    </tr>\n",
       "    <tr>\n",
       "      <th>13</th>\n",
       "      <td>Remote patient monitoring</td>\n",
       "      <td>2021</td>\n",
       "      <td>319290.0</td>\n",
       "    </tr>\n",
       "    <tr>\n",
       "      <th>14</th>\n",
       "      <td>Remote patient monitoring</td>\n",
       "      <td>2022</td>\n",
       "      <td>488918.0</td>\n",
       "    </tr>\n",
       "    <tr>\n",
       "      <th>18</th>\n",
       "      <td>Store and forward</td>\n",
       "      <td>2021</td>\n",
       "      <td>448238.0</td>\n",
       "    </tr>\n",
       "    <tr>\n",
       "      <th>15</th>\n",
       "      <td>Store and forward</td>\n",
       "      <td>2018</td>\n",
       "      <td>27124.0</td>\n",
       "    </tr>\n",
       "    <tr>\n",
       "      <th>16</th>\n",
       "      <td>Store and forward</td>\n",
       "      <td>2019</td>\n",
       "      <td>39570.0</td>\n",
       "    </tr>\n",
       "    <tr>\n",
       "      <th>17</th>\n",
       "      <td>Store and forward</td>\n",
       "      <td>2020</td>\n",
       "      <td>470634.0</td>\n",
       "    </tr>\n",
       "    <tr>\n",
       "      <th>19</th>\n",
       "      <td>Store and forward</td>\n",
       "      <td>2022</td>\n",
       "      <td>1184358.0</td>\n",
       "    </tr>\n",
       "  </tbody>\n",
       "</table>\n",
       "</div>"
      ],
      "text/plain": [
       "               TelehealthType  Year          sum\n",
       "0            Live audio/video  2018    2542113.0\n",
       "1            Live audio/video  2019    3729677.0\n",
       "2            Live audio/video  2020  101439571.0\n",
       "3            Live audio/video  2021  104310821.0\n",
       "4            Live audio/video  2022   80320959.0\n",
       "8            Other telehealth  2021     356122.0\n",
       "7            Other telehealth  2020     750035.0\n",
       "9            Other telehealth  2022     281331.0\n",
       "5            Other telehealth  2018       9750.0\n",
       "6            Other telehealth  2019      17300.0\n",
       "10  Remote patient monitoring  2018       7758.0\n",
       "11  Remote patient monitoring  2019      38308.0\n",
       "12  Remote patient monitoring  2020     129134.0\n",
       "13  Remote patient monitoring  2021     319290.0\n",
       "14  Remote patient monitoring  2022     488918.0\n",
       "18          Store and forward  2021     448238.0\n",
       "15          Store and forward  2018      27124.0\n",
       "16          Store and forward  2019      39570.0\n",
       "17          Store and forward  2020     470634.0\n",
       "19          Store and forward  2022    1184358.0"
      ]
     },
     "execution_count": 19,
     "metadata": {},
     "output_type": "execute_result"
    }
   ],
   "source": [
    "#Looking at number of users by telehealth type (year over year trends)\n",
    "\n",
    "service_counts_by_type_by_year = medicaid_trends_df.groupby(['TelehealthType','Year'])['ServiceCount'].sum().reset_index(name='sum').sort_values(by='TelehealthType', ascending=True)\n",
    "service_counts_by_type_by_year\n",
    "#I saved this data as a csv so I can make a good chart in Excel, \n",
    "#service_counts_by_type_by_year.to_csv('service_counts_by_type_by_year.csv')\n",
    "\n",
    "\n",
    "#the chart reveals that live audio/video is by far the most used telehealth type\n",
    "#by filtering that value out we can also see upward trends for store & forward and remote patient monitoring\n"
   ]
  },
  {
   "cell_type": "code",
   "execution_count": 43,
   "id": "dc3031e9",
   "metadata": {
    "scrolled": false
   },
   "outputs": [
    {
     "data": {
      "image/png": "[encoded data removed]",
      "text/plain": [
       "<Figure size 640x480 with 1 Axes>"
      ]
     },
     "metadata": {},
     "output_type": "display_data"
    }
   ],
   "source": [
    "#Treemap (not very useful but keeping it for reference)\n",
    "service_counts_by_type = medicaid_trends_df.groupby(['TelehealthType'])['ServiceCount'].sum().reset_index(name='sum').sort_values(by='TelehealthType', ascending=True)\n",
    "\n",
    "# Create a data frame with fake data\n",
    "#df = pd.DataFrame({'nb_people':[8,3,4,2], 'group':[\"group A\", \"group B\", \"group C\", \"group D\"] })\n",
    "\n",
    "# plot it\n",
    "squarify.plot(sizes=service_counts_by_type['sum'], label=service_counts_by_type['TelehealthType'], alpha=.8 )\n",
    "plt.axis('off')\n",
    "plt.show()"
   ]
  },
  {
   "cell_type": "code",
   "execution_count": 45,
   "id": "bf5b8732",
   "metadata": {},
   "outputs": [
    {
     "data": {
      "image/png": "[encoded data removed]",
      "text/plain": [
       "<Figure size 640x480 with 1 Axes>"
      ]
     },
     "metadata": {},
     "output_type": "display_data"
    }
   ],
   "source": [
    "#Also a pie chart\n",
    "# create data\n",
    "data=service_counts_by_type['sum']\n",
    "\n",
    "# Create a pieplot\n",
    "plt.pie(data)\n",
    "\n",
    "# add a circle at the center to transform it in a donut chart\n",
    "my_circle=plt.Circle( (0,0), 0.7, color='white')\n",
    "p=plt.gcf()\n",
    "p.gca().add_artist(my_circle)\n",
    "\n",
    "plt.show()"
   ]
  },
  {
   "cell_type": "markdown",
   "id": "015072ff",
   "metadata": {},
   "source": [
    "# Part IV: Visualize the data"
   ]
  },
  {
   "cell_type": "code",
   "execution_count": 34,
   "id": "acedd431",
   "metadata": {},
   "outputs": [
    {
     "name": "stderr",
     "output_type": "stream",
     "text": [
      "/var/folders/9p/b296_brx68g11r3xrqpfbh6w0000gn/T/ipykernel_24056/2921544228.py:17: FutureWarning: \n",
      "\n",
      "The `ci` parameter is deprecated. Use `errorbar=None` for the same effect.\n",
      "\n",
      "  sns.lineplot(\n",
      "/opt/anaconda3/lib/python3.11/site-packages/seaborn/_oldcore.py:1119: FutureWarning: use_inf_as_na option is deprecated and will be removed in a future version. Convert inf values to NaN before operating instead.\n",
      "  with pd.option_context('mode.use_inf_as_na', True):\n",
      "/opt/anaconda3/lib/python3.11/site-packages/seaborn/_oldcore.py:1119: FutureWarning: use_inf_as_na option is deprecated and will be removed in a future version. Convert inf values to NaN before operating instead.\n",
      "  with pd.option_context('mode.use_inf_as_na', True):\n"
     ]
    },
    {
     "data": {
      "text/plain": [
       "Text(0.5, 1.0, 'National % of Medicare Part B Telehealth Users by Year-Quarter')"
      ]
     },
     "execution_count": 34,
     "metadata": {},
     "output_type": "execute_result"
    },
    {
     "data": {
      "image/png": "[encoded data removed]",
      "text/plain": [
       "<Figure size 1000x700 with 1 Axes>"
      ]
     },
     "metadata": {},
     "output_type": "display_data"
    }
   ],
   "source": [
    "#Filter df to all states \n",
    "value = 'National'\n",
    "filtered_data = quick_filter(medicare_trends_df,state,value)\n",
    "\n",
    "#Remove the 'Overall' yearly data and look at each quarter\n",
    "data_by_quarter = filtered_data[filtered_data['quarter']!='Overall']\n",
    "data_by_quarter\n",
    "\n",
    "#Plot the chart in sns\n",
    "# set plot style: grey grid in the background:\n",
    "sns.set_theme(style=\"darkgrid\")\n",
    "\n",
    "# Set the figure size\n",
    "plt.figure(figsize=(10, 7))\n",
    "\n",
    "# plot a bar chart\n",
    "sns.lineplot(\n",
    "    x=\"year-quarter\",\n",
    "    y=\"pct_actual_users_out_of_eligible_users\",\n",
    "    data=data_by_quarter, \n",
    "    color='#69b3a2', \n",
    "    ci=None);\n",
    "\n",
    "#Add markers for year\n",
    "plt.axvline(linewidth=2, linestyle='-.', color='grey', x='2020-1')\n",
    "plt.axvline(linewidth=2, linestyle='-.', color='grey', x='2021-1')\n",
    "plt.axvline(linewidth=2, linestyle='-.', color='grey', x='2022-1')\n",
    "plt.axvline(linewidth=2, linestyle='-.', color='grey', x='2023-1')\n",
    "\n",
    "\n",
    "#labels\n",
    "plt.xticks(rotation=45)\n",
    "plt.ylabel('% Telehealth Users')\n",
    "plt.xlabel('Year-Quarter')\n",
    "plt.title('National % of Medicare Part B Telehealth Users by Year-Quarter')\n",
    "\n",
    "#Observation: Overall telehealth usage is declining year over year; why?"
   ]
  },
  {
   "cell_type": "markdown",
   "id": "339a6517",
   "metadata": {},
   "source": [
    "Groupby Example:\n",
    "#Count the number of times each country occurs in the data frame using a groupby\n",
    "#First indicate the column to group by (country)\n",
    "#Then indicate the column to perform the calculation on (also country)\n",
    "#Use value counts to count number of times each category occurs in df\n",
    "#reset the index to turn the result into a dataframe and name the new column 'count'\n",
    "#Finally sort values to get the list in order of count descending\n",
    "top_countries = gourds.groupby(['country'])['country'].value_counts().reset_index(name='count').sort_values(by='count', ascending=False)\n",
    "top_countries\n"
   ]
  },
  {
   "cell_type": "code",
   "execution_count": null,
   "id": "972431fa",
   "metadata": {},
   "outputs": [],
   "source": []
  },
  {
   "cell_type": "code",
   "execution_count": null,
   "id": "b4c7dc1d",
   "metadata": {},
   "outputs": [],
   "source": []
  },
  {
   "cell_type": "code",
   "execution_count": null,
   "id": "614e85a5",
   "metadata": {},
   "outputs": [],
   "source": []
  },
  {
   "cell_type": "code",
   "execution_count": null,
   "id": "1efc869e",
   "metadata": {},
   "outputs": [],
   "source": []
  },
  {
   "cell_type": "code",
   "execution_count": null,
   "id": "2cd00126",
   "metadata": {},
   "outputs": [],
   "source": []
  },
  {
   "cell_type": "code",
   "execution_count": null,
   "id": "294b8967",
   "metadata": {},
   "outputs": [],
   "source": []
  },
  {
   "cell_type": "code",
   "execution_count": null,
   "id": "6494bd8d",
   "metadata": {},
   "outputs": [],
   "source": []
  },
  {
   "cell_type": "code",
   "execution_count": null,
   "id": "735566d1",
   "metadata": {},
   "outputs": [],
   "source": []
  },
  {
   "cell_type": "markdown",
   "id": "5db9e883",
   "metadata": {},
   "source": [
    "### Additional Challenges \n",
    "- [Overview](https://www.countyhealthrankings.org/strategies-and-solutions/what-works-for-health/strategies/telemedicine)"
   ]
  },
  {
   "cell_type": "code",
   "execution_count": null,
   "id": "92904645",
   "metadata": {},
   "outputs": [],
   "source": []
  },
  {
   "cell_type": "markdown",
   "id": "06a63992",
   "metadata": {},
   "source": [
    "### Further Research: \n",
    " - [Telehealth.HHS.gov](https://telehealth.hhs.gov/research-articles) - Additional research articles and papers on the impact and uses of telehealth, maintained by the HRSA Office for Advancement of Telehealth\n",
    "  - [CHRR Strategies for Telehealth](https://www.countyhealthrankings.org/strategies-and-solutions/what-works-for-health/strategies?keywords=telemedicine&sort_by=search_api_relevance) - Strategy guides with extensive research notes and citations. Includes evidence-informed strategies to create communities where everyone can thrive.\n",
    "  - [Additional CHRR Tennessee Data and Resources](https://www.countyhealthrankings.org/health-data/tennessee/data-and-resources) - These data sources provide information for communities looking for more local data. These sources provide either unique, local data; more information on demographic breakdowns (e.g., age, sex, race/ethnicity); or data for sub-county geographic units (e.g., cities, zipcodes or school districts).\n",
    "\n"
   ]
  },
  {
   "cell_type": "code",
   "execution_count": null,
   "id": "e0a27417",
   "metadata": {},
   "outputs": [],
   "source": []
  }
 ],
 "metadata": {
  "kernelspec": {
   "display_name": "Python 3 (ipykernel)",
   "language": "python",
   "name": "python3"
  },
  "language_info": {
   "codemirror_mode": {
    "name": "ipython",
    "version": 3
   },
   "file_extension": ".py",
   "mimetype": "text/x-python",
   "name": "python",
   "nbconvert_exporter": "python",
   "pygments_lexer": "ipython3",
   "version": "3.11.7"
  }
 },
 "nbformat": 4,
 "nbformat_minor": 5
}
