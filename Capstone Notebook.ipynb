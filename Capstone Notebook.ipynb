{
 "cells": [
  {
   "cell_type": "markdown",
   "id": "86edeb6e",
   "metadata": {},
   "source": [
    "\n",
    "# Part I: Defining the Data Problem \n"
   ]
  },
  {
   "cell_type": "markdown",
   "id": "08b3525a",
   "metadata": {},
   "source": [
    "### Data Question:\n",
    "\n",
    "Since 2020 the use of telemedicine has skyrocketed and continues to be a key method for healthcare delivery. It has become a subject of interest to the broader healthcare industry, as evidenced by increased investments from healthcare companies as well as federal and state governments. For example, the Biden administration recently announced it will invest over 770 million for “telemedicine pods” in rural areas across the U.S. - 746,000 of this will be used for TN counties. A state task force dedicated to rural health outcomes recommended an additional 66,900 should be earmarked for expanding telemedicine capabilities in rural communities.\n",
    "\n",
    "The potential applications for telemedicine are broad and emergent. Many doctors and therapists now offer live video calls for routine issues like medication management, mental health services, or follow-up care after a hospital stay. Other applications of telehealth, such as remote patient monitoring and mobile health applications, showcase the potential of telehealth to radically transform the healthcare landscape. In particular, there is much opportunity in rural applications of telehealth to address lack of accessibility.\n",
    "\n",
    "According to the TN Rural Health Care Task Force, rural residents are at particular risk for “poor health outcomes, including mental health challenges, obesity, and substance misuse”. **``How can telehealth be used to target these health issues in specific rural counties?``**\n",
    "\n",
    "Many factors can play a role in health outcomes. The TN Department of Health has a webpage that outlines many contributing factors to poor health outcomes in rural populations.  Any of these could be explored in the context of this analysis: \n",
    " - average proximity to hospitals\n",
    "  - food scarcity \n",
    "  - physical activeness trends \n",
    "  - internet or broadband access\n",
    "  - health and nutrition literacy\n",
    "  - social isolation levels\n",
    "  - socioeconomic status by county\n",
    "\n",
    "Policy may also play a role. Many rural populations rely on medicaid or medicare for health care. A 2020 report outlines state medicaid policies as one of the challenges in using telehealth to address opioid addiction. The report includes a state readiness assessment for implementing telehealth delivery methods. An assessment of TN’s readiness reveals a few gaps in coverage. For example, the CCHP (Center for Connected Health Policy) has a helpful policy map comparison that shows TN is behind other states in allowing medicaid reimbursement for remote patient monitoring as well as “Store and Forward” medical diagnostic processing. \n"
   ]
  },
  {
   "cell_type": "markdown",
   "id": "807cf388",
   "metadata": {},
   "source": [
    "### Data Sources:"
   ]
  },
  {
   "cell_type": "markdown",
   "id": "2d752b07",
   "metadata": {},
   "source": [
    "##### 1. [Medicare Telehealth Trends](https://catalog.data.gov/dataset/medicare-telemedicine-snapshot) (medicare_trends_df)\n",
    "\n",
    "The Medicare Telehealth Trends dataset provides information about people with Medicare who used telehealth services between January 1, 2020 and September 30, 2023. \n",
    "\n",
    "The data was also used to generate the [Medicare Telehealth Trends Report](https://data.cms.gov/sites/default/files/2024-03/Medicare%20Telehealth%20Trends%20Snapshot%2020240307_508.pdf).\n",
    "\n",
    "[Data Dictionary](https://data.cms.gov/sites/default/files/2023-05/c22a72d5-1b0c-47db-9d19-5fa75df96f4e/Medicare%20Telehealth%20Trends%20Report%20Data%20Dictionary_20220906_508.pdf) "
   ]
  },
  {
   "cell_type": "markdown",
   "id": "aefcc130",
   "metadata": {},
   "source": [
    "##### 2. [Medicaid & Chip Telehealth Trends](https://data.medicaid.gov/dataset/651fa253-4dd4-4867-8725-2b5ae1dd5ce9?conditions[0][property]=state&conditions[0][value]=Tennessee&conditions[0][operator]=%3D&conditions[1][property]=dataquality&conditions[1][value]=DQ&conditions[1][operator]=%3C%3E#data-table) (medicaid_trends_df)\n",
    "\n",
    "This data set includes monthly counts and rates (per 1,000 beneficiaries) of services provided via telehealth, including live audio video, remote patient monitoring, store and forward, and other telehealth, to Medicaid and CHIP beneficiaries, by state. \n",
    "\n",
    "Note: Some states have serious data quality issues for one or more months, making the data unusable for calculating telehealth services measures...Cells with a value of “DQ” (in the DataQuality column). indicate that data were suppressed due to unusable data. Additionally, some cells have a value of “DS”. This indicates that data were suppressed for confidentiality reasons because the group included fewer than 11 beneficiaries.\n",
    "\n",
    "There is no data dictionary for this data set"
   ]
  },
  {
   "cell_type": "markdown",
   "id": "3171a8bb",
   "metadata": {},
   "source": [
    "##### 3. [County Health Rankings and Roadmaps - TN](https://www.countyhealthrankings.org/health-data/tennessee?year=2024&measure=Mental+Health+Providers) (CHHR_df)"
   ]
  },
  {
   "cell_type": "markdown",
   "id": "b1eaf2c4",
   "metadata": {},
   "source": [
    "County Health Rankings & Roadmaps (CHR&R), a program of the University of Wisconsin Population Health Institute, draws attention to why there are differences in health within and across communities...CHR&R provides a snapshot of the health of nearly every county in the nation..."
   ]
  },
  {
   "cell_type": "markdown",
   "id": "3a2faf33",
   "metadata": {},
   "source": [
    "What Impacts Health? - See the [CHRR Health Model](https://www.countyhealthrankings.org/what-impacts-health/county-health-rankings-model)"
   ]
  },
  {
   "cell_type": "markdown",
   "id": "44e66412",
   "metadata": {},
   "source": [
    "##### 4. [American Community Survey](https://www.census.gov/data/developers/data-sets/acs-5year.2022.html#list-tab-1806015614) (ACS_df)"
   ]
  },
  {
   "cell_type": "markdown",
   "id": "7d334467",
   "metadata": {},
   "source": [
    "May need to use an API call here"
   ]
  },
  {
   "cell_type": "code",
   "execution_count": null,
   "id": "3a9fa5a0",
   "metadata": {},
   "outputs": [],
   "source": []
  },
  {
   "cell_type": "markdown",
   "id": "9c82377e",
   "metadata": {},
   "source": [
    "\n",
    "# Part II: Data Import & Cleaning\n"
   ]
  },
  {
   "cell_type": "code",
   "execution_count": 1,
   "id": "f415ffa8",
   "metadata": {},
   "outputs": [],
   "source": [
    "import pandas as pd\n",
    "import numpy as np\n",
    "import seaborn as sns\n",
    "import matplotlib.pyplot as plt"
   ]
  },
  {
   "cell_type": "markdown",
   "id": "a65256e1",
   "metadata": {},
   "source": [
    "### Medicare Data"
   ]
  },
  {
   "cell_type": "code",
   "execution_count": 2,
   "id": "5f4fc8b2",
   "metadata": {
    "scrolled": true
   },
   "outputs": [
    {
     "data": {
      "text/html": [
       "<div>\n",
       "<style scoped>\n",
       "    .dataframe tbody tr th:only-of-type {\n",
       "        vertical-align: middle;\n",
       "    }\n",
       "\n",
       "    .dataframe tbody tr th {\n",
       "        vertical-align: top;\n",
       "    }\n",
       "\n",
       "    .dataframe thead th {\n",
       "        text-align: right;\n",
       "    }\n",
       "</style>\n",
       "<table border=\"1\" class=\"dataframe\">\n",
       "  <thead>\n",
       "    <tr style=\"text-align: right;\">\n",
       "      <th></th>\n",
       "      <th>Year</th>\n",
       "      <th>quarter</th>\n",
       "      <th>Bene_Geo_Desc</th>\n",
       "      <th>Bene_Mdcd_Mdcr_Enrl_Stus</th>\n",
       "      <th>Bene_Race_Desc</th>\n",
       "      <th>Bene_Sex_Desc</th>\n",
       "      <th>Bene_Mdcr_Entlmt_Stus</th>\n",
       "      <th>Bene_Age_Desc</th>\n",
       "      <th>Bene_RUCA_Desc</th>\n",
       "      <th>Total_Bene_TH_Elig</th>\n",
       "      <th>Total_PartB_Enrl</th>\n",
       "      <th>Total_Bene_Telehealth</th>\n",
       "      <th>Pct_Telehealth</th>\n",
       "    </tr>\n",
       "  </thead>\n",
       "  <tbody>\n",
       "    <tr>\n",
       "      <th>0</th>\n",
       "      <td>2020</td>\n",
       "      <td>Overall</td>\n",
       "      <td>National</td>\n",
       "      <td>All</td>\n",
       "      <td>All</td>\n",
       "      <td>All</td>\n",
       "      <td>All</td>\n",
       "      <td>All</td>\n",
       "      <td>All</td>\n",
       "      <td>30946785.0</td>\n",
       "      <td>3.224489e+07</td>\n",
       "      <td>14826919.0</td>\n",
       "      <td>0.4791</td>\n",
       "    </tr>\n",
       "    <tr>\n",
       "      <th>1</th>\n",
       "      <td>2020</td>\n",
       "      <td>Overall</td>\n",
       "      <td>National</td>\n",
       "      <td>All</td>\n",
       "      <td>All</td>\n",
       "      <td>All</td>\n",
       "      <td>All</td>\n",
       "      <td>All</td>\n",
       "      <td>Rural</td>\n",
       "      <td>7179538.0</td>\n",
       "      <td>7.490301e+06</td>\n",
       "      <td>2858284.0</td>\n",
       "      <td>0.3981</td>\n",
       "    </tr>\n",
       "    <tr>\n",
       "      <th>2</th>\n",
       "      <td>2020</td>\n",
       "      <td>Overall</td>\n",
       "      <td>National</td>\n",
       "      <td>All</td>\n",
       "      <td>All</td>\n",
       "      <td>All</td>\n",
       "      <td>All</td>\n",
       "      <td>All</td>\n",
       "      <td>Urban</td>\n",
       "      <td>23696871.0</td>\n",
       "      <td>2.462914e+07</td>\n",
       "      <td>11944230.0</td>\n",
       "      <td>0.5040</td>\n",
       "    </tr>\n",
       "    <tr>\n",
       "      <th>3</th>\n",
       "      <td>2020</td>\n",
       "      <td>Overall</td>\n",
       "      <td>National</td>\n",
       "      <td>All</td>\n",
       "      <td>All</td>\n",
       "      <td>All</td>\n",
       "      <td>All</td>\n",
       "      <td>All</td>\n",
       "      <td>Unknown</td>\n",
       "      <td>NaN</td>\n",
       "      <td>NaN</td>\n",
       "      <td>NaN</td>\n",
       "      <td>NaN</td>\n",
       "    </tr>\n",
       "    <tr>\n",
       "      <th>4</th>\n",
       "      <td>2020</td>\n",
       "      <td>Overall</td>\n",
       "      <td>National</td>\n",
       "      <td>All</td>\n",
       "      <td>All</td>\n",
       "      <td>All</td>\n",
       "      <td>All</td>\n",
       "      <td>0-64</td>\n",
       "      <td>All</td>\n",
       "      <td>4088345.0</td>\n",
       "      <td>4.291403e+06</td>\n",
       "      <td>2322324.0</td>\n",
       "      <td>0.5680</td>\n",
       "    </tr>\n",
       "  </tbody>\n",
       "</table>\n",
       "</div>"
      ],
      "text/plain": [
       "   Year  quarter Bene_Geo_Desc Bene_Mdcd_Mdcr_Enrl_Stus Bene_Race_Desc  \\\n",
       "0  2020  Overall      National                      All            All   \n",
       "1  2020  Overall      National                      All            All   \n",
       "2  2020  Overall      National                      All            All   \n",
       "3  2020  Overall      National                      All            All   \n",
       "4  2020  Overall      National                      All            All   \n",
       "\n",
       "  Bene_Sex_Desc Bene_Mdcr_Entlmt_Stus Bene_Age_Desc Bene_RUCA_Desc  \\\n",
       "0           All                   All           All            All   \n",
       "1           All                   All           All          Rural   \n",
       "2           All                   All           All          Urban   \n",
       "3           All                   All           All        Unknown   \n",
       "4           All                   All          0-64            All   \n",
       "\n",
       "   Total_Bene_TH_Elig  Total_PartB_Enrl  Total_Bene_Telehealth  Pct_Telehealth  \n",
       "0          30946785.0      3.224489e+07             14826919.0          0.4791  \n",
       "1           7179538.0      7.490301e+06              2858284.0          0.3981  \n",
       "2          23696871.0      2.462914e+07             11944230.0          0.5040  \n",
       "3                 NaN               NaN                    NaN             NaN  \n",
       "4           4088345.0      4.291403e+06              2322324.0          0.5680  "
      ]
     },
     "execution_count": 2,
     "metadata": {},
     "output_type": "execute_result"
    }
   ],
   "source": [
    "#Read in csv for medicare telehealth trends\n",
    "medicare_trends_df = pd.read_csv('capstone_data/Medicare/US_medicare_telehealth_data_2020_to_2023.csv')\n",
    "medicare_trends_df.head()"
   ]
  },
  {
   "cell_type": "code",
   "execution_count": 3,
   "id": "ddb349da",
   "metadata": {
    "scrolled": false
   },
   "outputs": [],
   "source": [
    "#Renamed some of the columns based on their definitions so I can remember what they mean while I'm working with them\n",
    "medicare_trends_df = medicare_trends_df.rename(columns={\"Total_Bene_TH_Elig\": \"nunique_eligible_for_telehealth\", \"Total_PartB_Enrl\": \"total_enrollees_Part_B\", 'Total_Bene_Telehealth':'nunique_users_of_telehealth', 'Pct_Telehealth':'pct_actual_users_out_of_eligible_users'})\n",
    "\n",
    "#Multiply the pct column by 100 and round it, for easier readibility\n",
    "medicare_trends_df['pct_actual_users_out_of_eligible_users'] = round((medicare_trends_df['pct_actual_users_out_of_eligible_users']*100),2)"
   ]
  },
  {
   "cell_type": "code",
   "execution_count": 4,
   "id": "864ba015",
   "metadata": {
    "scrolled": true
   },
   "outputs": [
    {
     "data": {
      "text/html": [
       "<div>\n",
       "<style scoped>\n",
       "    .dataframe tbody tr th:only-of-type {\n",
       "        vertical-align: middle;\n",
       "    }\n",
       "\n",
       "    .dataframe tbody tr th {\n",
       "        vertical-align: top;\n",
       "    }\n",
       "\n",
       "    .dataframe thead th {\n",
       "        text-align: right;\n",
       "    }\n",
       "</style>\n",
       "<table border=\"1\" class=\"dataframe\">\n",
       "  <thead>\n",
       "    <tr style=\"text-align: right;\">\n",
       "      <th></th>\n",
       "      <th>Year</th>\n",
       "      <th>quarter</th>\n",
       "      <th>Bene_Geo_Desc</th>\n",
       "      <th>Bene_Mdcd_Mdcr_Enrl_Stus</th>\n",
       "      <th>Bene_Race_Desc</th>\n",
       "      <th>Bene_Sex_Desc</th>\n",
       "      <th>Bene_Mdcr_Entlmt_Stus</th>\n",
       "      <th>Bene_Age_Desc</th>\n",
       "      <th>Bene_RUCA_Desc</th>\n",
       "      <th>nunique_eligible_for_telehealth</th>\n",
       "      <th>total_enrollees_Part_B</th>\n",
       "      <th>nunique_users_of_telehealth</th>\n",
       "      <th>pct_actual_users_out_of_eligible_users</th>\n",
       "      <th>year-quarter</th>\n",
       "    </tr>\n",
       "  </thead>\n",
       "  <tbody>\n",
       "    <tr>\n",
       "      <th>0</th>\n",
       "      <td>2020</td>\n",
       "      <td>Overall</td>\n",
       "      <td>National</td>\n",
       "      <td>All</td>\n",
       "      <td>All</td>\n",
       "      <td>All</td>\n",
       "      <td>All</td>\n",
       "      <td>All</td>\n",
       "      <td>All</td>\n",
       "      <td>30946785.0</td>\n",
       "      <td>3.224489e+07</td>\n",
       "      <td>14826919.0</td>\n",
       "      <td>47.91</td>\n",
       "      <td>2020-Overall</td>\n",
       "    </tr>\n",
       "    <tr>\n",
       "      <th>1</th>\n",
       "      <td>2020</td>\n",
       "      <td>Overall</td>\n",
       "      <td>National</td>\n",
       "      <td>All</td>\n",
       "      <td>All</td>\n",
       "      <td>All</td>\n",
       "      <td>All</td>\n",
       "      <td>All</td>\n",
       "      <td>Rural</td>\n",
       "      <td>7179538.0</td>\n",
       "      <td>7.490301e+06</td>\n",
       "      <td>2858284.0</td>\n",
       "      <td>39.81</td>\n",
       "      <td>2020-Overall</td>\n",
       "    </tr>\n",
       "    <tr>\n",
       "      <th>2</th>\n",
       "      <td>2020</td>\n",
       "      <td>Overall</td>\n",
       "      <td>National</td>\n",
       "      <td>All</td>\n",
       "      <td>All</td>\n",
       "      <td>All</td>\n",
       "      <td>All</td>\n",
       "      <td>All</td>\n",
       "      <td>Urban</td>\n",
       "      <td>23696871.0</td>\n",
       "      <td>2.462914e+07</td>\n",
       "      <td>11944230.0</td>\n",
       "      <td>50.40</td>\n",
       "      <td>2020-Overall</td>\n",
       "    </tr>\n",
       "    <tr>\n",
       "      <th>3</th>\n",
       "      <td>2020</td>\n",
       "      <td>Overall</td>\n",
       "      <td>National</td>\n",
       "      <td>All</td>\n",
       "      <td>All</td>\n",
       "      <td>All</td>\n",
       "      <td>All</td>\n",
       "      <td>All</td>\n",
       "      <td>Unknown</td>\n",
       "      <td>NaN</td>\n",
       "      <td>NaN</td>\n",
       "      <td>NaN</td>\n",
       "      <td>NaN</td>\n",
       "      <td>2020-Overall</td>\n",
       "    </tr>\n",
       "    <tr>\n",
       "      <th>4</th>\n",
       "      <td>2020</td>\n",
       "      <td>Overall</td>\n",
       "      <td>National</td>\n",
       "      <td>All</td>\n",
       "      <td>All</td>\n",
       "      <td>All</td>\n",
       "      <td>All</td>\n",
       "      <td>0-64</td>\n",
       "      <td>All</td>\n",
       "      <td>4088345.0</td>\n",
       "      <td>4.291403e+06</td>\n",
       "      <td>2322324.0</td>\n",
       "      <td>56.80</td>\n",
       "      <td>2020-Overall</td>\n",
       "    </tr>\n",
       "  </tbody>\n",
       "</table>\n",
       "</div>"
      ],
      "text/plain": [
       "   Year  quarter Bene_Geo_Desc Bene_Mdcd_Mdcr_Enrl_Stus Bene_Race_Desc  \\\n",
       "0  2020  Overall      National                      All            All   \n",
       "1  2020  Overall      National                      All            All   \n",
       "2  2020  Overall      National                      All            All   \n",
       "3  2020  Overall      National                      All            All   \n",
       "4  2020  Overall      National                      All            All   \n",
       "\n",
       "  Bene_Sex_Desc Bene_Mdcr_Entlmt_Stus Bene_Age_Desc Bene_RUCA_Desc  \\\n",
       "0           All                   All           All            All   \n",
       "1           All                   All           All          Rural   \n",
       "2           All                   All           All          Urban   \n",
       "3           All                   All           All        Unknown   \n",
       "4           All                   All          0-64            All   \n",
       "\n",
       "   nunique_eligible_for_telehealth  total_enrollees_Part_B  \\\n",
       "0                       30946785.0            3.224489e+07   \n",
       "1                        7179538.0            7.490301e+06   \n",
       "2                       23696871.0            2.462914e+07   \n",
       "3                              NaN                     NaN   \n",
       "4                        4088345.0            4.291403e+06   \n",
       "\n",
       "   nunique_users_of_telehealth  pct_actual_users_out_of_eligible_users  \\\n",
       "0                   14826919.0                                   47.91   \n",
       "1                    2858284.0                                   39.81   \n",
       "2                   11944230.0                                   50.40   \n",
       "3                          NaN                                     NaN   \n",
       "4                    2322324.0                                   56.80   \n",
       "\n",
       "   year-quarter  \n",
       "0  2020-Overall  \n",
       "1  2020-Overall  \n",
       "2  2020-Overall  \n",
       "3  2020-Overall  \n",
       "4  2020-Overall  "
      ]
     },
     "execution_count": 4,
     "metadata": {},
     "output_type": "execute_result"
    }
   ],
   "source": [
    "#Add a new column called \"year-quarter\" to help break out changes by quarter per year\n",
    "medicare_trends_df['year-quarter'] = medicare_trends_df['Year'].astype(str) + \"-\" + medicare_trends_df['quarter'].astype(str) \n",
    "medicare_trends_df.head()"
   ]
  },
  {
   "cell_type": "markdown",
   "id": "647c3557",
   "metadata": {},
   "source": [
    "### Medicaid & CHIP Data"
   ]
  },
  {
   "cell_type": "code",
   "execution_count": 5,
   "id": "59fe0cc2",
   "metadata": {},
   "outputs": [],
   "source": [
    "medicaid_trends_df = pd.read_csv('capstone_data/Medicaid/US_Telehealth-Services-Provided-to-the-MedicaidCHIP-Population.csv')"
   ]
  },
  {
   "cell_type": "code",
   "execution_count": 6,
   "id": "e2cc7fca",
   "metadata": {},
   "outputs": [
    {
     "data": {
      "text/html": [
       "<div>\n",
       "<style scoped>\n",
       "    .dataframe tbody tr th:only-of-type {\n",
       "        vertical-align: middle;\n",
       "    }\n",
       "\n",
       "    .dataframe tbody tr th {\n",
       "        vertical-align: top;\n",
       "    }\n",
       "\n",
       "    .dataframe thead th {\n",
       "        text-align: right;\n",
       "    }\n",
       "</style>\n",
       "<table border=\"1\" class=\"dataframe\">\n",
       "  <thead>\n",
       "    <tr style=\"text-align: right;\">\n",
       "      <th></th>\n",
       "      <th>State</th>\n",
       "      <th>Year</th>\n",
       "      <th>Month</th>\n",
       "      <th>TelehealthType</th>\n",
       "      <th>ServiceType</th>\n",
       "      <th>ServiceCount</th>\n",
       "      <th>RatePer1000Beneficiaries</th>\n",
       "      <th>DataQuality</th>\n",
       "    </tr>\n",
       "  </thead>\n",
       "  <tbody>\n",
       "    <tr>\n",
       "      <th>0</th>\n",
       "      <td>Alabama</td>\n",
       "      <td>2018</td>\n",
       "      <td>201801</td>\n",
       "      <td>Live audio/video</td>\n",
       "      <td>All</td>\n",
       "      <td>6,905</td>\n",
       "      <td>5.6</td>\n",
       "      <td>NaN</td>\n",
       "    </tr>\n",
       "    <tr>\n",
       "      <th>1</th>\n",
       "      <td>Alabama</td>\n",
       "      <td>2018</td>\n",
       "      <td>201801</td>\n",
       "      <td>Other telehealth</td>\n",
       "      <td>All</td>\n",
       "      <td>-</td>\n",
       "      <td>0</td>\n",
       "      <td>NaN</td>\n",
       "    </tr>\n",
       "    <tr>\n",
       "      <th>2</th>\n",
       "      <td>Alabama</td>\n",
       "      <td>2018</td>\n",
       "      <td>201801</td>\n",
       "      <td>Remote patient monitoring</td>\n",
       "      <td>All</td>\n",
       "      <td>-</td>\n",
       "      <td>0</td>\n",
       "      <td>NaN</td>\n",
       "    </tr>\n",
       "    <tr>\n",
       "      <th>3</th>\n",
       "      <td>Alabama</td>\n",
       "      <td>2018</td>\n",
       "      <td>201801</td>\n",
       "      <td>Store and forward</td>\n",
       "      <td>All</td>\n",
       "      <td>-</td>\n",
       "      <td>0</td>\n",
       "      <td>NaN</td>\n",
       "    </tr>\n",
       "    <tr>\n",
       "      <th>4</th>\n",
       "      <td>Alabama</td>\n",
       "      <td>2018</td>\n",
       "      <td>201802</td>\n",
       "      <td>Live audio/video</td>\n",
       "      <td>All</td>\n",
       "      <td>4,821</td>\n",
       "      <td>3.9</td>\n",
       "      <td>NaN</td>\n",
       "    </tr>\n",
       "  </tbody>\n",
       "</table>\n",
       "</div>"
      ],
      "text/plain": [
       "     State  Year   Month             TelehealthType ServiceType ServiceCount  \\\n",
       "0  Alabama  2018  201801           Live audio/video         All       6,905    \n",
       "1  Alabama  2018  201801           Other telehealth         All         -      \n",
       "2  Alabama  2018  201801  Remote patient monitoring         All         -      \n",
       "3  Alabama  2018  201801          Store and forward         All         -      \n",
       "4  Alabama  2018  201802           Live audio/video         All       4,821    \n",
       "\n",
       "  RatePer1000Beneficiaries DataQuality  \n",
       "0                      5.6         NaN  \n",
       "1                        0         NaN  \n",
       "2                        0         NaN  \n",
       "3                        0         NaN  \n",
       "4                      3.9         NaN  "
      ]
     },
     "execution_count": 6,
     "metadata": {},
     "output_type": "execute_result"
    }
   ],
   "source": [
    "medicaid_trends_df.head()"
   ]
  },
  {
   "cell_type": "code",
   "execution_count": 7,
   "id": "be9a5392",
   "metadata": {
    "scrolled": false
   },
   "outputs": [],
   "source": [
    "#First we need to filter out \"unusable\" data\n",
    "medicaid_trends_df = medicaid_trends_df[medicaid_trends_df['DataQuality']!='Unusable']\n",
    "medicaid_trends_df = medicaid_trends_df[medicaid_trends_df['ServiceCount']!=' DS ']"
   ]
  },
  {
   "cell_type": "code",
   "execution_count": 8,
   "id": "f009227f",
   "metadata": {},
   "outputs": [
    {
     "data": {
      "text/html": [
       "<div>\n",
       "<style scoped>\n",
       "    .dataframe tbody tr th:only-of-type {\n",
       "        vertical-align: middle;\n",
       "    }\n",
       "\n",
       "    .dataframe tbody tr th {\n",
       "        vertical-align: top;\n",
       "    }\n",
       "\n",
       "    .dataframe thead th {\n",
       "        text-align: right;\n",
       "    }\n",
       "</style>\n",
       "<table border=\"1\" class=\"dataframe\">\n",
       "  <thead>\n",
       "    <tr style=\"text-align: right;\">\n",
       "      <th></th>\n",
       "      <th>State</th>\n",
       "      <th>Year</th>\n",
       "      <th>Month</th>\n",
       "      <th>TelehealthType</th>\n",
       "      <th>ServiceType</th>\n",
       "      <th>ServiceCount</th>\n",
       "      <th>RatePer1000Beneficiaries</th>\n",
       "      <th>DataQuality</th>\n",
       "    </tr>\n",
       "  </thead>\n",
       "  <tbody>\n",
       "    <tr>\n",
       "      <th>0</th>\n",
       "      <td>Alabama</td>\n",
       "      <td>2018</td>\n",
       "      <td>201801</td>\n",
       "      <td>Live audio/video</td>\n",
       "      <td>All</td>\n",
       "      <td>6905.0</td>\n",
       "      <td>5.6</td>\n",
       "      <td>NaN</td>\n",
       "    </tr>\n",
       "    <tr>\n",
       "      <th>1</th>\n",
       "      <td>Alabama</td>\n",
       "      <td>2018</td>\n",
       "      <td>201801</td>\n",
       "      <td>Other telehealth</td>\n",
       "      <td>All</td>\n",
       "      <td>NaN</td>\n",
       "      <td>0.0</td>\n",
       "      <td>NaN</td>\n",
       "    </tr>\n",
       "    <tr>\n",
       "      <th>2</th>\n",
       "      <td>Alabama</td>\n",
       "      <td>2018</td>\n",
       "      <td>201801</td>\n",
       "      <td>Remote patient monitoring</td>\n",
       "      <td>All</td>\n",
       "      <td>NaN</td>\n",
       "      <td>0.0</td>\n",
       "      <td>NaN</td>\n",
       "    </tr>\n",
       "    <tr>\n",
       "      <th>3</th>\n",
       "      <td>Alabama</td>\n",
       "      <td>2018</td>\n",
       "      <td>201801</td>\n",
       "      <td>Store and forward</td>\n",
       "      <td>All</td>\n",
       "      <td>NaN</td>\n",
       "      <td>0.0</td>\n",
       "      <td>NaN</td>\n",
       "    </tr>\n",
       "    <tr>\n",
       "      <th>4</th>\n",
       "      <td>Alabama</td>\n",
       "      <td>2018</td>\n",
       "      <td>201802</td>\n",
       "      <td>Live audio/video</td>\n",
       "      <td>All</td>\n",
       "      <td>4821.0</td>\n",
       "      <td>3.9</td>\n",
       "      <td>NaN</td>\n",
       "    </tr>\n",
       "  </tbody>\n",
       "</table>\n",
       "</div>"
      ],
      "text/plain": [
       "     State  Year   Month             TelehealthType ServiceType  ServiceCount  \\\n",
       "0  Alabama  2018  201801           Live audio/video         All        6905.0   \n",
       "1  Alabama  2018  201801           Other telehealth         All           NaN   \n",
       "2  Alabama  2018  201801  Remote patient monitoring         All           NaN   \n",
       "3  Alabama  2018  201801          Store and forward         All           NaN   \n",
       "4  Alabama  2018  201802           Live audio/video         All        4821.0   \n",
       "\n",
       "   RatePer1000Beneficiaries  DataQuality  \n",
       "0                       5.6          NaN  \n",
       "1                       0.0          NaN  \n",
       "2                       0.0          NaN  \n",
       "3                       0.0          NaN  \n",
       "4                       3.9          NaN  "
      ]
     },
     "execution_count": 8,
     "metadata": {},
     "output_type": "execute_result"
    }
   ],
   "source": [
    "#Then we need to change the service counts to summable data types\n",
    "\n",
    "#Let's remove commas\n",
    "medicaid_trends_df = medicaid_trends_df.replace(',','', regex=True)\n",
    "\n",
    "#Then convert to numeric data type, coerce non-numbers to NaN\n",
    "medicaid_trends_df['ServiceCount'] = medicaid_trends_df['ServiceCount'].apply(pd.to_numeric,errors='coerce')\n",
    "medicaid_trends_df['RatePer1000Beneficiaries'] = medicaid_trends_df['RatePer1000Beneficiaries'].apply(pd.to_numeric,errors='coerce')\n",
    "medicaid_trends_df.head()"
   ]
  },
  {
   "cell_type": "markdown",
   "id": "8251a651",
   "metadata": {},
   "source": [
    "# Part III: Data Exploration"
   ]
  },
  {
   "cell_type": "markdown",
   "id": "b4c00904",
   "metadata": {},
   "source": [
    "### First Look - Basic Aggregation Stats"
   ]
  },
  {
   "cell_type": "code",
   "execution_count": 9,
   "id": "7624382d",
   "metadata": {},
   "outputs": [],
   "source": [
    "#Use .describe() to get some basic aggregated stats for the data set. \n",
    "medicare_stats = round(medicare_trends_df.describe(),2)\n",
    "medicaid_stats = round(medicaid_trends_df.describe(),2)"
   ]
  },
  {
   "cell_type": "code",
   "execution_count": 10,
   "id": "66bd2fab",
   "metadata": {},
   "outputs": [
    {
     "data": {
      "text/html": [
       "<div>\n",
       "<style scoped>\n",
       "    .dataframe tbody tr th:only-of-type {\n",
       "        vertical-align: middle;\n",
       "    }\n",
       "\n",
       "    .dataframe tbody tr th {\n",
       "        vertical-align: top;\n",
       "    }\n",
       "\n",
       "    .dataframe thead th {\n",
       "        text-align: right;\n",
       "    }\n",
       "</style>\n",
       "<table border=\"1\" class=\"dataframe\">\n",
       "  <thead>\n",
       "    <tr style=\"text-align: right;\">\n",
       "      <th></th>\n",
       "      <th>nunique_eligible_for_telehealth</th>\n",
       "      <th>total_enrollees_Part_B</th>\n",
       "      <th>nunique_users_of_telehealth</th>\n",
       "      <th>pct_actual_users_out_of_eligible_users</th>\n",
       "    </tr>\n",
       "  </thead>\n",
       "  <tbody>\n",
       "    <tr>\n",
       "      <th>count</th>\n",
       "      <td>19378.00</td>\n",
       "      <td>19378.00</td>\n",
       "      <td>19349.00</td>\n",
       "      <td>19347.00</td>\n",
       "    </tr>\n",
       "    <tr>\n",
       "      <th>mean</th>\n",
       "      <td>509782.63</td>\n",
       "      <td>644732.85</td>\n",
       "      <td>117848.05</td>\n",
       "      <td>23.24</td>\n",
       "    </tr>\n",
       "    <tr>\n",
       "      <th>std</th>\n",
       "      <td>2088376.79</td>\n",
       "      <td>2617578.83</td>\n",
       "      <td>544223.71</td>\n",
       "      <td>14.17</td>\n",
       "    </tr>\n",
       "    <tr>\n",
       "      <th>min</th>\n",
       "      <td>11.00</td>\n",
       "      <td>16.67</td>\n",
       "      <td>0.00</td>\n",
       "      <td>0.00</td>\n",
       "    </tr>\n",
       "    <tr>\n",
       "      <th>25%</th>\n",
       "      <td>18067.50</td>\n",
       "      <td>23625.50</td>\n",
       "      <td>3526.00</td>\n",
       "      <td>12.22</td>\n",
       "    </tr>\n",
       "    <tr>\n",
       "      <th>50%</th>\n",
       "      <td>80085.50</td>\n",
       "      <td>103933.00</td>\n",
       "      <td>14521.00</td>\n",
       "      <td>19.71</td>\n",
       "    </tr>\n",
       "    <tr>\n",
       "      <th>75%</th>\n",
       "      <td>262988.50</td>\n",
       "      <td>341424.94</td>\n",
       "      <td>51154.00</td>\n",
       "      <td>31.48</td>\n",
       "    </tr>\n",
       "    <tr>\n",
       "      <th>max</th>\n",
       "      <td>30946785.00</td>\n",
       "      <td>32344227.67</td>\n",
       "      <td>14826919.00</td>\n",
       "      <td>82.02</td>\n",
       "    </tr>\n",
       "  </tbody>\n",
       "</table>\n",
       "</div>"
      ],
      "text/plain": [
       "       nunique_eligible_for_telehealth  total_enrollees_Part_B  \\\n",
       "count                         19378.00                19378.00   \n",
       "mean                         509782.63               644732.85   \n",
       "std                         2088376.79              2617578.83   \n",
       "min                              11.00                   16.67   \n",
       "25%                           18067.50                23625.50   \n",
       "50%                           80085.50               103933.00   \n",
       "75%                          262988.50               341424.94   \n",
       "max                        30946785.00             32344227.67   \n",
       "\n",
       "       nunique_users_of_telehealth  pct_actual_users_out_of_eligible_users  \n",
       "count                     19349.00                                19347.00  \n",
       "mean                     117848.05                                   23.24  \n",
       "std                      544223.71                                   14.17  \n",
       "min                           0.00                                    0.00  \n",
       "25%                        3526.00                                   12.22  \n",
       "50%                       14521.00                                   19.71  \n",
       "75%                       51154.00                                   31.48  \n",
       "max                    14826919.00                                   82.02  "
      ]
     },
     "execution_count": 10,
     "metadata": {},
     "output_type": "execute_result"
    }
   ],
   "source": [
    "#Medicare Stats - telehealth benefit recipients 2020-2023:\n",
    "medicare_stats.drop(['Year'], axis=1)"
   ]
  },
  {
   "cell_type": "code",
   "execution_count": 11,
   "id": "09a1f7d7",
   "metadata": {},
   "outputs": [
    {
     "data": {
      "text/html": [
       "<div>\n",
       "<style scoped>\n",
       "    .dataframe tbody tr th:only-of-type {\n",
       "        vertical-align: middle;\n",
       "    }\n",
       "\n",
       "    .dataframe tbody tr th {\n",
       "        vertical-align: top;\n",
       "    }\n",
       "\n",
       "    .dataframe thead th {\n",
       "        text-align: right;\n",
       "    }\n",
       "</style>\n",
       "<table border=\"1\" class=\"dataframe\">\n",
       "  <thead>\n",
       "    <tr style=\"text-align: right;\">\n",
       "      <th></th>\n",
       "      <th>ServiceCount</th>\n",
       "      <th>RatePer1000Beneficiaries</th>\n",
       "    </tr>\n",
       "  </thead>\n",
       "  <tbody>\n",
       "    <tr>\n",
       "      <th>count</th>\n",
       "      <td>8498.00</td>\n",
       "      <td>10158.00</td>\n",
       "    </tr>\n",
       "    <tr>\n",
       "      <th>mean</th>\n",
       "      <td>34938.93</td>\n",
       "      <td>17.97</td>\n",
       "    </tr>\n",
       "    <tr>\n",
       "      <th>std</th>\n",
       "      <td>119101.59</td>\n",
       "      <td>49.25</td>\n",
       "    </tr>\n",
       "    <tr>\n",
       "      <th>min</th>\n",
       "      <td>11.00</td>\n",
       "      <td>0.00</td>\n",
       "    </tr>\n",
       "    <tr>\n",
       "      <th>25%</th>\n",
       "      <td>72.00</td>\n",
       "      <td>0.00</td>\n",
       "    </tr>\n",
       "    <tr>\n",
       "      <th>50%</th>\n",
       "      <td>395.00</td>\n",
       "      <td>0.00</td>\n",
       "    </tr>\n",
       "    <tr>\n",
       "      <th>75%</th>\n",
       "      <td>5128.50</td>\n",
       "      <td>2.50</td>\n",
       "    </tr>\n",
       "    <tr>\n",
       "      <th>max</th>\n",
       "      <td>1843032.00</td>\n",
       "      <td>482.70</td>\n",
       "    </tr>\n",
       "  </tbody>\n",
       "</table>\n",
       "</div>"
      ],
      "text/plain": [
       "       ServiceCount  RatePer1000Beneficiaries\n",
       "count       8498.00                  10158.00\n",
       "mean       34938.93                     17.97\n",
       "std       119101.59                     49.25\n",
       "min           11.00                      0.00\n",
       "25%           72.00                      0.00\n",
       "50%          395.00                      0.00\n",
       "75%         5128.50                      2.50\n",
       "max      1843032.00                    482.70"
      ]
     },
     "execution_count": 11,
     "metadata": {},
     "output_type": "execute_result"
    }
   ],
   "source": [
    "#Medicaid Stats - Telehealth services delivered from 2018-2022:\n",
    "medicaid_stats.drop(['Year','Month','DataQuality'], axis=1)"
   ]
  },
  {
   "cell_type": "markdown",
   "id": "c6331e71",
   "metadata": {},
   "source": [
    "***Note:*** *The dates of the two datasets do not completely align. Only 2020-2022 are overlapping*"
   ]
  },
  {
   "cell_type": "markdown",
   "id": "956e3761",
   "metadata": {},
   "source": [
    "### Groupable Categories"
   ]
  },
  {
   "cell_type": "code",
   "execution_count": 22,
   "id": "50a35965",
   "metadata": {
    "scrolled": true
   },
   "outputs": [
    {
     "data": {
      "text/html": [
       "<div>\n",
       "<style scoped>\n",
       "    .dataframe tbody tr th:only-of-type {\n",
       "        vertical-align: middle;\n",
       "    }\n",
       "\n",
       "    .dataframe tbody tr th {\n",
       "        vertical-align: top;\n",
       "    }\n",
       "\n",
       "    .dataframe thead th {\n",
       "        text-align: right;\n",
       "    }\n",
       "</style>\n",
       "<table border=\"1\" class=\"dataframe\">\n",
       "  <thead>\n",
       "    <tr style=\"text-align: right;\">\n",
       "      <th></th>\n",
       "      <th>TelehealthType</th>\n",
       "      <th>sum</th>\n",
       "    </tr>\n",
       "  </thead>\n",
       "  <tbody>\n",
       "    <tr>\n",
       "      <th>0</th>\n",
       "      <td>Live audio/video</td>\n",
       "      <td>292343141.0</td>\n",
       "    </tr>\n",
       "    <tr>\n",
       "      <th>3</th>\n",
       "      <td>Store and forward</td>\n",
       "      <td>2169924.0</td>\n",
       "    </tr>\n",
       "    <tr>\n",
       "      <th>1</th>\n",
       "      <td>Other telehealth</td>\n",
       "      <td>1414538.0</td>\n",
       "    </tr>\n",
       "    <tr>\n",
       "      <th>2</th>\n",
       "      <td>Remote patient monitoring</td>\n",
       "      <td>983408.0</td>\n",
       "    </tr>\n",
       "  </tbody>\n",
       "</table>\n",
       "</div>"
      ],
      "text/plain": [
       "              TelehealthType          sum\n",
       "0           Live audio/video  292343141.0\n",
       "3          Store and forward    2169924.0\n",
       "1           Other telehealth    1414538.0\n",
       "2  Remote patient monitoring     983408.0"
      ]
     },
     "execution_count": 22,
     "metadata": {},
     "output_type": "execute_result"
    }
   ],
   "source": [
    "service_counts_by_type = medicaid_trends_df.groupby(['TelehealthType'])['ServiceCount'].sum().reset_index(name='sum').sort_values(by='sum', ascending=False)\n",
    "service_counts_by_type"
   ]
  },
  {
   "cell_type": "markdown",
   "id": "9858da0d",
   "metadata": {},
   "source": [
    "### Creating Scalable Filter Functions"
   ]
  },
  {
   "cell_type": "markdown",
   "id": "aefa8fdc",
   "metadata": {},
   "source": [
    "In order to chart some of the string variables, we need to create a way to filter them at scale"
   ]
  },
  {
   "cell_type": "code",
   "execution_count": 14,
   "id": "ee0a90cd",
   "metadata": {},
   "outputs": [],
   "source": [
    "#For easier reference when chooseing the variables, here is a sampling of unique values in each column:\n",
    "#for series_name, series in medicaid_trends_df.items():\n",
    "#    print(series_name)\n",
    "#    print(medicaid_trends_df[series_name].unique())\n",
    "    \n",
    "#Also the base dataframe info:\n",
    "#medicaid_trends_df.info()"
   ]
  },
  {
   "cell_type": "code",
   "execution_count": 15,
   "id": "f2cd3356",
   "metadata": {},
   "outputs": [],
   "source": [
    "#Define a function that filters any df by specific value(s) in a column (the variable)\n",
    "#Note: cannot filter this way using operators, more useful for str variables \n",
    "def quick_filter(df, variable, *values):\n",
    "    return df[df[variable].isin(values)]\n",
    "\n",
    "#test:\n",
    "#quick_filter(medicare_trends_df,'Bene_Mdcd_Mdcr_Enrl_Stus', 'Medicare Only')"
   ]
  },
  {
   "cell_type": "code",
   "execution_count": 16,
   "id": "75977740",
   "metadata": {},
   "outputs": [],
   "source": [
    "#List and define the str variables:\n",
    "year = 'Year'\n",
    "quarter = 'quarter'\n",
    "state = 'Bene_Geo_Desc'\n",
    "enrollment_status = 'Bene_Mdcd_Mdcr_Enrl_Stus'\n",
    "race = 'Bene_Race_Desc'\n",
    "sex = 'Bene_Sex_Desc'\n",
    "entitlement = 'Bene_Mdcr_Entlmt_Stus'\n",
    "age = 'Bene_Age_Desc'\n",
    "RUCA = 'Bene_RUCA_Desc'"
   ]
  },
  {
   "cell_type": "code",
   "execution_count": 17,
   "id": "13bf0315",
   "metadata": {},
   "outputs": [],
   "source": [
    "#For easier reference when chooseing the variables, here is a sampling of unique values in each column:\n",
    "#for series_name, series in medicare_trends_df.items():\n",
    "#    print(series_name)\n",
    "#    print(medicare_trends_df[series_name].unique())\n",
    "    \n",
    "#Also the base dataframe info:\n",
    "#medicare_trends_df.info()"
   ]
  },
  {
   "cell_type": "code",
   "execution_count": 18,
   "id": "224daaff",
   "metadata": {},
   "outputs": [],
   "source": [
    "#Define the value(s) to filter on\n",
    "#For example, if we want to filter by a specific state, change this value to the state you want \n",
    "value = 'National'\n",
    "\n",
    "#Then use the 'state' variable in the quick_filter function \n",
    "filtered_data = quick_filter(medicare_trends_df,state,value)"
   ]
  },
  {
   "cell_type": "code",
   "execution_count": 19,
   "id": "cfcf96a6",
   "metadata": {},
   "outputs": [],
   "source": [
    "#Can optionally use this for loop to filter most variables by \"All\"\n",
    "all_var = filtered_data\n",
    "for column in filtered_data.iloc[:,3:9]:\n",
    "    all_var = quick_filter(all_var,column,'All') \n",
    "\n",
    "filtered_data = all_var"
   ]
  },
  {
   "cell_type": "markdown",
   "id": "5b6109cc",
   "metadata": {},
   "source": [
    "# Part IV: Visualize the data"
   ]
  },
  {
   "cell_type": "code",
   "execution_count": 20,
   "id": "10cc0496",
   "metadata": {},
   "outputs": [
    {
     "name": "stderr",
     "output_type": "stream",
     "text": [
      "/opt/anaconda3/lib/python3.11/site-packages/seaborn/_oldcore.py:1119: FutureWarning: use_inf_as_na option is deprecated and will be removed in a future version. Convert inf values to NaN before operating instead.\n",
      "  with pd.option_context('mode.use_inf_as_na', True):\n",
      "/opt/anaconda3/lib/python3.11/site-packages/seaborn/_oldcore.py:1119: FutureWarning: use_inf_as_na option is deprecated and will be removed in a future version. Convert inf values to NaN before operating instead.\n",
      "  with pd.option_context('mode.use_inf_as_na', True):\n"
     ]
    },
    {
     "data": {
      "text/plain": [
       "Text(0.5, 1.0, 'National % of Medicare Part B Teleheath Users by Year-Quarter')"
      ]
     },
     "execution_count": 20,
     "metadata": {},
     "output_type": "execute_result"
    },
    {
     "data": {
      "image/png": "[encoded data removed]",
      "text/plain": [
       "<Figure size 1000x700 with 1 Axes>"
      ]
     },
     "metadata": {},
     "output_type": "display_data"
    }
   ],
   "source": [
    "#Remove the 'Overall' data and look at each quarter\n",
    "data_by_quarter = filtered_data[filtered_data['quarter']!='Overall']\n",
    "data_by_quarter\n",
    "\n",
    "#Plot the chart in sns\n",
    "# set plot style: grey grid in the background:\n",
    "sns.set_theme(style=\"darkgrid\")\n",
    "\n",
    "\n",
    "# Set the figure size\n",
    "plt.figure(figsize=(10, 7))\n",
    "\n",
    "# plot a bar chart\n",
    "sns.lineplot(\n",
    "    x=\"year-quarter\",\n",
    "    y=\"pct_actual_users_out_of_eligible_users\",\n",
    "    data=data_by_quarter, \n",
    "    color='#69b3a2');\n",
    "plt.xticks(rotation=45)\n",
    "plt.ylabel('% Teleheath Users')\n",
    "plt.xlabel('Year-Quarter')\n",
    "plt.title('National % of Medicare Part B Teleheath Users by Year-Quarter')\n",
    "\n",
    "#Observation: Overall telehealth usage is declining year over year; why?\n",
    "#Note: Go back to the variables section to filter by different states"
   ]
  },
  {
   "cell_type": "markdown",
   "id": "043048f6",
   "metadata": {},
   "source": [
    "Groupby Example:\n",
    "#Count the number of times each country occurs in the data frame using a groupby\n",
    "#First indicate the column to group by (country)\n",
    "#Then indicate the column to perform the calculation on (also country)\n",
    "#Use value counts to count number of times each category occurs in df\n",
    "#reset the index to turn the result into a dataframe and name the new column 'count'\n",
    "#Finally sort values to get the list in order of count descending\n",
    "top_countries = gourds.groupby(['country'])['country'].value_counts().reset_index(name='count').sort_values(by='count', ascending=False)\n",
    "top_countries\n"
   ]
  },
  {
   "cell_type": "code",
   "execution_count": null,
   "id": "6013f125",
   "metadata": {},
   "outputs": [],
   "source": []
  },
  {
   "cell_type": "code",
   "execution_count": null,
   "id": "7a5e81f3",
   "metadata": {},
   "outputs": [],
   "source": []
  },
  {
   "cell_type": "code",
   "execution_count": null,
   "id": "c53258f3",
   "metadata": {},
   "outputs": [],
   "source": []
  },
  {
   "cell_type": "code",
   "execution_count": null,
   "id": "bfb81aad",
   "metadata": {},
   "outputs": [],
   "source": []
  },
  {
   "cell_type": "code",
   "execution_count": null,
   "id": "85457433",
   "metadata": {},
   "outputs": [],
   "source": []
  },
  {
   "cell_type": "code",
   "execution_count": null,
   "id": "7c63299e",
   "metadata": {},
   "outputs": [],
   "source": []
  },
  {
   "cell_type": "code",
   "execution_count": null,
   "id": "832c177e",
   "metadata": {},
   "outputs": [],
   "source": []
  },
  {
   "cell_type": "code",
   "execution_count": null,
   "id": "eeb27d1a",
   "metadata": {},
   "outputs": [],
   "source": []
  },
  {
   "cell_type": "markdown",
   "id": "135c4b4f",
   "metadata": {},
   "source": [
    "### Additional Challenges \n",
    "- [Overview](https://www.countyhealthrankings.org/strategies-and-solutions/what-works-for-health/strategies/telemedicine)"
   ]
  },
  {
   "cell_type": "code",
   "execution_count": null,
   "id": "03347950",
   "metadata": {},
   "outputs": [],
   "source": []
  },
  {
   "cell_type": "markdown",
   "id": "867a4b5d",
   "metadata": {},
   "source": [
    "### Further Research: \n",
    " - [Telehealth.HHS.gov](https://telehealth.hhs.gov/research-articles) - Additional research articles and papers on the impact and uses of telehealth, maintained by the HRSA Office for Advancement of Telehealth\n",
    "  - [CHRR Strategies for Telehealth](https://www.countyhealthrankings.org/strategies-and-solutions/what-works-for-health/strategies?keywords=telemedicine&sort_by=search_api_relevance) - Strategy guides with extensive research notes and citations. Includes evidence-informed strategies to create communities where everyone can thrive.\n",
    "  - [Additional CHRR Tennessee Data and Resources](https://www.countyhealthrankings.org/health-data/tennessee/data-and-resources) - These data sources provide information for communities looking for more local data. These sources provide either unique, local data; more information on demographic breakdowns (e.g., age, sex, race/ethnicity); or data for sub-county geographic units (e.g., cities, zipcodes or school districts).\n",
    "\n"
   ]
  },
  {
   "cell_type": "code",
   "execution_count": null,
   "id": "c4d89a7a",
   "metadata": {},
   "outputs": [],
   "source": []
  }
 ],
 "metadata": {
  "kernelspec": {
   "display_name": "Python 3 (ipykernel)",
   "language": "python",
   "name": "python3"
  },
  "language_info": {
   "codemirror_mode": {
    "name": "ipython",
    "version": 3
   },
   "file_extension": ".py",
   "mimetype": "text/x-python",
   "name": "python",
   "nbconvert_exporter": "python",
   "pygments_lexer": "ipython3",
   "version": "3.11.7"
  }
 },
 "nbformat": 4,
 "nbformat_minor": 5
}
